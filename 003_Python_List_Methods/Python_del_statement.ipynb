{
 "cells": [
  {
   "cell_type": "markdown",
   "metadata": {},
   "source": [
    "<small><small><i>\n",
    "All of these python notebooks are available at [ https://github.com/milaan9/Python4DataScience ]\n",
    "</i></small></small>"
   ]
  },
  {
   "cell_type": "markdown",
   "metadata": {},
   "source": [
    "# Python del Statement\n",
    "\n",
    "In this class, you will learn to use the **`del`**  keyword with the help of examples.\n",
    "\n",
    "**Syntax**:\n",
    "\n",
    "```python\n",
    "del obj_name\n",
    "```\n",
    "\n",
    "Here, **`del`** is a Python keyword. And, **`obj_name`** can be variables, user-defined objects, lists, items within lists, dictionaries etc."
   ]
  },
  {
   "cell_type": "code",
   "execution_count": null,
   "metadata": {},
   "outputs": [],
   "source": [
    "# Example 1: Delete an user-defined object\n",
    "\n",
    "class MyClass:\n",
    "    a = 10\n",
    "    def func(self):\n",
    "        print('Hello')\n",
    "\n",
    "# Output: \n",
    "print(MyClass)\n",
    "\n",
    "# deleting MyClass\n",
    "del MyClass\n",
    "\n",
    "# Error: MyClass is not defined\n",
    "print(MyClass)"
   ]
  },
  {
   "cell_type": "markdown",
   "metadata": {},
   "source": [
    "In the program, we have deleted **`MyClass`** using **`del MyClass`** statement."
   ]
  },
  {
   "cell_type": "code",
   "execution_count": null,
   "metadata": {},
   "outputs": [],
   "source": [
    "# Example 2: Delete variable, list, and dictionary\n",
    "\n",
    "my_var = 5\n",
    "my_tuple = ('Sam', 25)\n",
    "my_dict = {'name': 'Sam', 'age': 25}\n",
    "\n",
    "del my_var\n",
    "del my_tuple\n",
    "del my_dict\n",
    "\n",
    "# Error: my_var is not defined\n",
    "print(my_var)\n",
    "\n",
    "# Error: my_tuple is not defined\n",
    "print(my_tuple)\n",
    "\n",
    "# Error: my_dict is not defined\n",
    "print(my_dict)"
   ]
  },
  {
   "cell_type": "code",
   "execution_count": null,
   "metadata": {},
   "outputs": [],
   "source": [
    "# Example 3: Remove items, slices from a list\n",
    "\n",
    "# The del statement can be used to delete an item at a given index. \n",
    "# Also, it can be used to remove slices from a list.\n",
    "\n",
    "\n",
    "my_list = [1, 2, 3, 4, 5, 6, 7, 8, 9]\n",
    "\n",
    "# deleting the third item\n",
    "del my_list[2]\n",
    "\n",
    "# Output: [1, 2, 4, 5, 6, 7, 8, 9]\n",
    "print(my_list)\n",
    "\n",
    "# deleting items from 2nd to 4th\n",
    "del my_list[1:4]\n",
    "\n",
    "# Output: [1, 6, 7, 8, 9]\n",
    "print(my_list)\n",
    "\n",
    "# deleting all elements\n",
    "del my_list[:]\n",
    "\n",
    "# Output: []\n",
    "print(my_list)"
   ]
  },
  {
   "cell_type": "code",
   "execution_count": null,
   "metadata": {},
   "outputs": [],
   "source": [
    "# Example 4: Remove a key:value pair from a dictionary\n",
    "\n",
    "person = { 'name': 'Sam',\n",
    "  'age': 25,\n",
    "  'profession': 'Programmer'\n",
    "}\n",
    "\n",
    "del person['profession']\n",
    "\n",
    "# Output: {'name': 'Sam', 'age': 25}\n",
    "print(person)"
   ]
  },
  {
   "cell_type": "markdown",
   "metadata": {},
   "source": [
    "You can't delete items of tuples and strings. It's because tuples and strings are immutables; objects that can't be changed after its creation."
   ]
  },
  {
   "cell_type": "code",
   "execution_count": null,
   "metadata": {},
   "outputs": [],
   "source": [
    "my_tuple = (1, 2, 3)\n",
    "\n",
    "# Error: 'tuple' object doesn't support item deletion\n",
    "del my_tuple[1]"
   ]
  },
  {
   "cell_type": "markdown",
   "metadata": {},
   "source": [
    "However, you can delete an entire tuple or string."
   ]
  },
  {
   "cell_type": "code",
   "execution_count": null,
   "metadata": {},
   "outputs": [],
   "source": [
    "my_tuple = (1, 2, 3)\n",
    "\n",
    "# deleting tuple\n",
    "del my_tuple"
   ]
  },
  {
   "cell_type": "code",
   "execution_count": null,
   "metadata": {},
   "outputs": [],
   "source": []
  }
 ],
 "metadata": {
  "kernelspec": {
   "display_name": "Python 3",
   "language": "python",
   "name": "python3"
  },
  "language_info": {
   "codemirror_mode": {
    "name": "ipython",
    "version": 3
   },
   "file_extension": ".py",
   "mimetype": "text/x-python",
   "name": "python",
   "nbconvert_exporter": "python",
   "pygments_lexer": "ipython3",
   "version": "3.8.3"
  }
 },
 "nbformat": 4,
 "nbformat_minor": 2
}
