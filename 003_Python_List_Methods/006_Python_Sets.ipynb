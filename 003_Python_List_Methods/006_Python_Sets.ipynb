{
 "cells": [
  {
   "cell_type": "markdown",
   "metadata": {},
   "source": [
    "<small><small><i>\n",
    "All the IPython Notebooks in this lecture series by Dr. Milan Parmar are available @ **[GitHub](https://github.com/milaan9/02_Python_Datatypes)**\n",
    "</i></small></small>"
   ]
  },
  {
   "cell_type": "markdown",
   "metadata": {},
   "source": [
    "# Python Sets\n",
    "\n",
    "A set is an unordered collection of items. Every set element is unique (no duplicates) and must be immutable (cannot be changed).\n",
    "\n",
    "However, a set itself is mutable. We can add or remove items from it.\n",
    "\n",
    "Sets can also be used to perform mathematical set operations like union, intersection, symmetric difference, etc.\n",
    "\n",
    "Sets in Python are a collection of unordered and unindexed elements of different data types. **Every element** in a set **should be unique** (no duplicates allowed) & **immutable** (cannot be modified or changed). Since the elements in the set are unordered and unindexed, we cannot assure that the output will be printed in the same way in which the elements are stored in a set."
   ]
  },
  {
   "cell_type": "markdown",
   "metadata": {
    "heading_collapsed": true
   },
   "source": [
    "## How Are Sets Better Than Other DataTypes?\n",
    "\n",
    "Sets will not contain multiple occurrences of the same element, they are very useful in removing duplicate elements from a list or a tuple. Also, they are useful in computing mathematical notations such as union, intersection, etc.\n"
   ]
  },
  {
   "cell_type": "markdown",
   "metadata": {},
   "source": [
    "## Creating Python Sets\n",
    "\n",
    "A set is created by placing all the items (elements) inside curly braces **`{}`**, separated by comma, or by using the built-in **`set()`** function.\n",
    "\n",
    "It can have any number of items and they may be of different types (integer, float, tuple, string etc.). But a set cannot have mutable elements like lists, sets or dictionaries as its elements."
   ]
  },
  {
   "cell_type": "code",
   "execution_count": 1,
   "metadata": {
    "ExecuteTime": {
     "end_time": "2021-06-09T14:00:24.002542Z",
     "start_time": "2021-06-09T14:00:23.992807Z"
    }
   },
   "outputs": [
    {
     "name": "stdout",
     "output_type": "stream",
     "text": [
      "{1, 2, 3}\n",
      "{1.0, (1, 2, 3), 'Hello'}\n"
     ]
    }
   ],
   "source": [
    "# Different types of sets in Python\n",
    "\n",
    "# Example 1:\n",
    "\n",
    "# set of integers\n",
    "my_set = {1, 2, 3}\n",
    "print(my_set)\n",
    "\n",
    "# set of mixed datatypes\n",
    "my_set = {1.0, \"Hello\", (1, 2, 3)}\n",
    "print(my_set)"
   ]
  },
  {
   "cell_type": "code",
   "execution_count": 2,
   "metadata": {
    "ExecuteTime": {
     "end_time": "2021-06-09T14:00:26.279338Z",
     "start_time": "2021-06-09T14:00:25.944345Z"
    },
    "scrolled": false
   },
   "outputs": [
    {
     "name": "stdout",
     "output_type": "stream",
     "text": [
      "{1, 2, 3, 4}\n",
      "{1, 2, 3}\n"
     ]
    },
    {
     "ename": "TypeError",
     "evalue": "unhashable type: 'list'",
     "output_type": "error",
     "traceback": [
      "\u001b[1;31m---------------------------------------------------------------------------\u001b[0m",
      "\u001b[1;31mTypeError\u001b[0m                                 Traceback (most recent call last)",
      "\u001b[1;32m<ipython-input-2-d015af05ca6a>\u001b[0m in \u001b[0;36m<module>\u001b[1;34m\u001b[0m\n\u001b[0;32m     17\u001b[0m \u001b[1;31m# this will cause an error.\u001b[0m\u001b[1;33m\u001b[0m\u001b[1;33m\u001b[0m\u001b[1;33m\u001b[0m\u001b[0m\n\u001b[0;32m     18\u001b[0m \u001b[1;33m\u001b[0m\u001b[0m\n\u001b[1;32m---> 19\u001b[1;33m \u001b[0mmy_set\u001b[0m \u001b[1;33m=\u001b[0m \u001b[1;33m{\u001b[0m\u001b[1;36m1\u001b[0m\u001b[1;33m,\u001b[0m \u001b[1;36m2\u001b[0m\u001b[1;33m,\u001b[0m \u001b[1;33m[\u001b[0m\u001b[1;36m3\u001b[0m\u001b[1;33m,\u001b[0m \u001b[1;36m4\u001b[0m\u001b[1;33m]\u001b[0m\u001b[1;33m}\u001b[0m\u001b[1;33m\u001b[0m\u001b[1;33m\u001b[0m\u001b[0m\n\u001b[0m",
      "\u001b[1;31mTypeError\u001b[0m: unhashable type: 'list'"
     ]
    }
   ],
   "source": [
    "# Different types of sets in Python\n",
    "\n",
    "# Example 2:\n",
    "\n",
    "# set cannot have duplicates\n",
    "# Output: {1, 2, 3, 4}\n",
    "my_set = {1, 2, 3, 4, 3, 2}\n",
    "print(my_set)\n",
    "\n",
    "# we can make set from a list\n",
    "# Output: {1, 2, 3}\n",
    "my_set = set([1, 2, 3, 2])\n",
    "print(my_set)\n",
    "\n",
    "# set cannot have mutable items\n",
    "# here [3, 4] is a mutable list\n",
    "# this will cause an error.\n",
    "\n",
    "my_set = {1, 2, [3, 4]}"
   ]
  },
  {
   "cell_type": "markdown",
   "metadata": {},
   "source": [
    "### Creating an empty set is a bit tricky.\n",
    "\n",
    "Empty curly braces **`{}`** will make an empty dictionary in Python. To make a set without any elements, we use the **`set()`** function without any argument."
   ]
  },
  {
   "cell_type": "code",
   "execution_count": 3,
   "metadata": {
    "ExecuteTime": {
     "end_time": "2021-06-09T14:00:49.213345Z",
     "start_time": "2021-06-09T14:00:49.199224Z"
    }
   },
   "outputs": [
    {
     "name": "stdout",
     "output_type": "stream",
     "text": [
      "<class 'dict'>\n",
      "<class 'set'>\n"
     ]
    }
   ],
   "source": [
    "# Distinguish set and dictionary while creating empty set\n",
    "\n",
    "# initialize a with {}\n",
    "a = {}\n",
    "\n",
    "# check data type of a\n",
    "print(type(a))\n",
    "\n",
    "# initialize a with set()\n",
    "a = set()\n",
    "\n",
    "# check data type of a\n",
    "print(type(a))"
   ]
  },
  {
   "cell_type": "markdown",
   "metadata": {},
   "source": [
    "## Modifying a set in Python\n",
    "\n",
    "Sets are mutable. However, since they are unordered, indexing has no meaning.\n",
    "\n",
    "We cannot access or change an element of a set using indexing or slicing. Set data type does not support it.\n",
    "\n",
    "We can add a single element using the **`add()`** method, and multiple elements using the **`update()`** method. The **`update()`** method can take tuples, lists, strings or other sets as its argument. In all cases, duplicates are avoided."
   ]
  },
  {
   "cell_type": "code",
   "execution_count": 4,
   "metadata": {
    "ExecuteTime": {
     "end_time": "2021-06-09T14:00:53.332127Z",
     "start_time": "2021-06-09T14:00:53.307782Z"
    },
    "scrolled": true
   },
   "outputs": [
    {
     "name": "stdout",
     "output_type": "stream",
     "text": [
      "{1, 3}\n",
      "{1, 2, 3}\n",
      "{1, 2, 3, 4}\n",
      "{1, 2, 3, 4, 5, 6, 8}\n"
     ]
    }
   ],
   "source": [
    "# initialize my_set\n",
    "my_set = {1, 3}\n",
    "print(my_set)\n",
    "\n",
    "# if you uncomment line 9,\n",
    "# you will get an error\n",
    "# TypeError: 'set' object does not support indexing\n",
    "\n",
    "# my_set[0]\n",
    "\n",
    "# add an element\n",
    "# Output: {1, 2, 3}\n",
    "my_set.add(2)\n",
    "print(my_set)\n",
    "\n",
    "# add multiple elements\n",
    "# Output: {1, 2, 3, 4}\n",
    "my_set.update([2, 3, 4])\n",
    "print(my_set)\n",
    "\n",
    "# add list and set\n",
    "# Output: {1, 2, 3, 4, 5, 6, 8}\n",
    "my_set.update([4, 5], {1, 6, 8})\n",
    "print(my_set)"
   ]
  },
  {
   "cell_type": "markdown",
   "metadata": {},
   "source": [
    "## Removing elements from a set\n",
    "\n",
    "A particular item can be removed from a set using the methods **`discard()`** and **`remove()`**.\n",
    "\n",
    "The only difference between the two is that the **`discard()`** function leaves a set unchanged if the element is not present in the set. On the other hand, the **`remove()`** function will raise an error in such a condition (if element is not present in the set).\n",
    "\n",
    "The following example will illustrate this."
   ]
  },
  {
   "cell_type": "code",
   "execution_count": 5,
   "metadata": {
    "ExecuteTime": {
     "end_time": "2021-06-09T14:00:57.619866Z",
     "start_time": "2021-06-09T14:00:57.592603Z"
    }
   },
   "outputs": [
    {
     "name": "stdout",
     "output_type": "stream",
     "text": [
      "{1, 3, 4, 5, 6}\n",
      "{1, 3, 5, 6}\n",
      "{1, 3, 5}\n",
      "{1, 3, 5}\n"
     ]
    },
    {
     "ename": "KeyError",
     "evalue": "2",
     "output_type": "error",
     "traceback": [
      "\u001b[1;31m---------------------------------------------------------------------------\u001b[0m",
      "\u001b[1;31mKeyError\u001b[0m                                  Traceback (most recent call last)",
      "\u001b[1;32m<ipython-input-5-8cb8edd7dd9a>\u001b[0m in \u001b[0;36m<module>\u001b[1;34m\u001b[0m\n\u001b[0;32m     26\u001b[0m \u001b[1;31m# Output: KeyError\u001b[0m\u001b[1;33m\u001b[0m\u001b[1;33m\u001b[0m\u001b[1;33m\u001b[0m\u001b[0m\n\u001b[0;32m     27\u001b[0m \u001b[1;33m\u001b[0m\u001b[0m\n\u001b[1;32m---> 28\u001b[1;33m \u001b[0mmy_set\u001b[0m\u001b[1;33m.\u001b[0m\u001b[0mremove\u001b[0m\u001b[1;33m(\u001b[0m\u001b[1;36m2\u001b[0m\u001b[1;33m)\u001b[0m\u001b[1;33m\u001b[0m\u001b[1;33m\u001b[0m\u001b[0m\n\u001b[0m",
      "\u001b[1;31mKeyError\u001b[0m: 2"
     ]
    }
   ],
   "source": [
    "# Difference between discard() and remove()\n",
    "\n",
    "# initialize my_set\n",
    "my_set = {1, 3, 4, 5, 6}\n",
    "print(my_set)\n",
    "\n",
    "# discard an element\n",
    "# Output: {1, 3, 5, 6}\n",
    "my_set.discard(4)\n",
    "print(my_set)\n",
    "\n",
    "# remove an element\n",
    "# Output: {1, 3, 5}\n",
    "my_set.remove(6)\n",
    "print(my_set)\n",
    "\n",
    "# discard an element\n",
    "# not present in my_set\n",
    "# Output: {1, 3, 5}\n",
    "my_set.discard(2)\n",
    "print(my_set)\n",
    "\n",
    "# remove an element\n",
    "# not present in my_set\n",
    "# you will get an error.\n",
    "# Output: KeyError\n",
    "\n",
    "my_set.remove(2)"
   ]
  },
  {
   "cell_type": "markdown",
   "metadata": {},
   "source": [
    "Similarly, we can remove and return an item using the **`pop()`** method.\n",
    "\n",
    "Since set is an unordered data type, there is no way of determining which item will be popped. It is completely arbitrary.\n",
    "\n",
    "We can also remove all the items from a set using the **`clear()`** method."
   ]
  },
  {
   "cell_type": "code",
   "execution_count": 6,
   "metadata": {
    "ExecuteTime": {
     "end_time": "2021-06-09T14:01:00.457099Z",
     "start_time": "2021-06-09T14:01:00.442492Z"
    }
   },
   "outputs": [
    {
     "name": "stdout",
     "output_type": "stream",
     "text": [
      "{'W', 'r', 'H', 'e', 'l', 'o', 'd'}\n",
      "W\n",
      "{'H', 'e', 'l', 'o', 'd'}\n",
      "set()\n",
      "set()\n"
     ]
    }
   ],
   "source": [
    "# initialize my_set\n",
    "# Output: set of unique elements\n",
    "my_set = set(\"HelloWorld\")\n",
    "print(my_set)\n",
    "\n",
    "# pop an element\n",
    "# Output: random element\n",
    "print(my_set.pop())\n",
    "\n",
    "# pop another element\n",
    "my_set.pop()\n",
    "print(my_set)\n",
    "\n",
    "# clear my_set\n",
    "# Output: set()\n",
    "my_set.clear()\n",
    "print(my_set)\n",
    "\n",
    "print(my_set)"
   ]
  },
  {
   "cell_type": "markdown",
   "metadata": {},
   "source": [
    "## Set Membership Test\n",
    "\n",
    "We can test if an item exists in a set or not, using the **`in`** keyword."
   ]
  },
  {
   "cell_type": "code",
   "execution_count": 7,
   "metadata": {
    "ExecuteTime": {
     "end_time": "2021-06-09T14:01:03.778322Z",
     "start_time": "2021-06-09T14:01:03.768583Z"
    }
   },
   "outputs": [
    {
     "name": "stdout",
     "output_type": "stream",
     "text": [
      "True\n",
      "False\n"
     ]
    }
   ],
   "source": [
    "# in keyword in a set\n",
    "# initialize my_set\n",
    "my_set = set(\"apple\")\n",
    "\n",
    "# check if 'a' is present\n",
    "# Output: True\n",
    "print('a' in my_set)\n",
    "\n",
    "# check if 'p' is present\n",
    "# Output: False\n",
    "print('p' not in my_set)"
   ]
  },
  {
   "cell_type": "markdown",
   "metadata": {},
   "source": [
    "## Python Set Operations\n",
    "\n",
    "Sets can be used to carry out mathematical set operations like union, intersection, difference and symmetric difference. We can do this with operators or methods.\n",
    "\n",
    "Let us consider the following two sets for the following operations.\n",
    "\n",
    "```python\n",
    ">>> A = {1, 2, 3, 4, 5}\n",
    ">>> B = {4, 5, 6, 7, 8}\n",
    "```"
   ]
  },
  {
   "cell_type": "markdown",
   "metadata": {},
   "source": [
    "### Set Union\n",
    "\n",
    "<div>\n",
    "<img src=\"img/set1.png\" width=\"300\"/>\n",
    "</div>\n",
    "\n",
    "Union of **`A`** and **`B`** is a set of all elements from both sets.\n",
    "\n",
    "Union is performed using **`|`** operator. Same can be accomplished using the **`union()`** method."
   ]
  },
  {
   "cell_type": "code",
   "execution_count": 8,
   "metadata": {
    "ExecuteTime": {
     "end_time": "2021-06-09T14:01:06.274716Z",
     "start_time": "2021-06-09T14:01:06.264003Z"
    }
   },
   "outputs": [
    {
     "name": "stdout",
     "output_type": "stream",
     "text": [
      "{1, 2, 3, 4, 5, 6, 7, 8}\n"
     ]
    }
   ],
   "source": [
    "# Example 1:\n",
    "\n",
    "# Set union method\n",
    "# initialize A and B\n",
    "A = {1, 2, 3, 4, 5}\n",
    "B = {4, 5, 6, 7, 8}\n",
    "\n",
    "# use | operator\n",
    "# Output: {1, 2, 3, 4, 5, 6, 7, 8}\n",
    "print(A | B)"
   ]
  },
  {
   "cell_type": "code",
   "execution_count": 9,
   "metadata": {
    "ExecuteTime": {
     "end_time": "2021-06-09T14:01:07.709641Z",
     "start_time": "2021-06-09T14:01:07.684324Z"
    }
   },
   "outputs": [
    {
     "data": {
      "text/plain": [
       "{1, 2, 3, 4, 5, 6, 7, 8}"
      ]
     },
     "execution_count": 9,
     "metadata": {},
     "output_type": "execute_result"
    }
   ],
   "source": [
    "# Example 2:\n",
    "\n",
    "# use union function\n",
    "A.union(B)\n",
    "{1, 2, 3, 4, 5, 6, 7, 8}\n",
    "\n",
    "# use union function on B\n",
    "B.union(A)\n",
    "{1, 2, 3, 4, 5, 6, 7, 8}"
   ]
  },
  {
   "cell_type": "markdown",
   "metadata": {},
   "source": [
    "### Set Intersection\n",
    "\n",
    "<div>\n",
    "<img src=\"img/set2.png\" width=\"300\"/>\n",
    "</div>\n",
    "\n",
    "Intersection of **`A`** and **`B`** is a set of elements that are common in both the sets.\n",
    "\n",
    "Intersection is performed using **`&`** operator. Same can be accomplished using the **`intersection()`** method."
   ]
  },
  {
   "cell_type": "code",
   "execution_count": 10,
   "metadata": {
    "ExecuteTime": {
     "end_time": "2021-06-09T14:01:09.192285Z",
     "start_time": "2021-06-09T14:01:09.175732Z"
    }
   },
   "outputs": [
    {
     "name": "stdout",
     "output_type": "stream",
     "text": [
      "{4, 5}\n"
     ]
    }
   ],
   "source": [
    "# Example 1:\n",
    "\n",
    "# Intersection of sets\n",
    "# initialize A and B\n",
    "A = {1, 2, 3, 4, 5}\n",
    "B = {4, 5, 6, 7, 8}\n",
    "\n",
    "# use & operator\n",
    "# Output: {4, 5}\n",
    "print(A & B)"
   ]
  },
  {
   "cell_type": "code",
   "execution_count": 11,
   "metadata": {
    "ExecuteTime": {
     "end_time": "2021-06-09T14:01:10.018575Z",
     "start_time": "2021-06-09T14:01:09.997152Z"
    }
   },
   "outputs": [
    {
     "data": {
      "text/plain": [
       "{4, 5}"
      ]
     },
     "execution_count": 11,
     "metadata": {},
     "output_type": "execute_result"
    }
   ],
   "source": [
    "# Example 2:\n",
    "\n",
    "# use intersection function on A\n",
    "A.intersection(B)\n",
    "{4, 5}\n",
    "\n",
    "# use intersection function on B\n",
    "B.intersection(A)\n",
    "{4, 5}"
   ]
  },
  {
   "cell_type": "markdown",
   "metadata": {},
   "source": [
    "### Set Difference\n",
    "\n",
    "<div>\n",
    "<img src=\"img/set3.png\" width=\"300\"/>\n",
    "</div>\n",
    "\n",
    "Difference of the set **`B`** from set **`A`**, **`(A - B)`** is a set of elements that are only in A but not in **`B`**. Similarly, **`B - A`** is a set of elements in **`B`** but not in **`A`**.\n",
    "\n",
    "Difference is performed using **`-`** operator. Same can be accomplished using the **`difference()`** method."
   ]
  },
  {
   "cell_type": "code",
   "execution_count": 12,
   "metadata": {
    "ExecuteTime": {
     "end_time": "2021-06-09T14:01:11.046934Z",
     "start_time": "2021-06-09T14:01:11.038170Z"
    }
   },
   "outputs": [
    {
     "name": "stdout",
     "output_type": "stream",
     "text": [
      "{1, 2, 3}\n"
     ]
    }
   ],
   "source": [
    "# Example 1:\n",
    "\n",
    "# Difference of two sets\n",
    "# initialize A and B\n",
    "A = {1, 2, 3, 4, 5}\n",
    "B = {4, 5, 6, 7, 8}\n",
    "\n",
    "# use - operator on A\n",
    "# Output: {1, 2, 3}\n",
    "print(A - B)"
   ]
  },
  {
   "cell_type": "code",
   "execution_count": 13,
   "metadata": {
    "ExecuteTime": {
     "end_time": "2021-06-09T14:01:12.105964Z",
     "start_time": "2021-06-09T14:01:12.096227Z"
    }
   },
   "outputs": [
    {
     "ename": "SyntaxError",
     "evalue": "invalid syntax (<ipython-input-13-1e5380e32c12>, line 12)",
     "output_type": "error",
     "traceback": [
      "\u001b[1;36m  File \u001b[1;32m\"<ipython-input-13-1e5380e32c12>\"\u001b[1;36m, line \u001b[1;32m12\u001b[0m\n\u001b[1;33m    >>> B.difference(A)\u001b[0m\n\u001b[1;37m    ^\u001b[0m\n\u001b[1;31mSyntaxError\u001b[0m\u001b[1;31m:\u001b[0m invalid syntax\n"
     ]
    }
   ],
   "source": [
    "# Example 2:\n",
    "\n",
    "# use difference function on A\n",
    "A.difference(B)\n",
    "{1, 2, 3}\n",
    "\n",
    "# use - operator on B\n",
    "B - A\n",
    "{8, 6, 7}\n",
    "\n",
    "# use difference function on B\n",
    ">>> B.difference(A)\n",
    "{8, 6, 7}\n"
   ]
  },
  {
   "cell_type": "markdown",
   "metadata": {},
   "source": [
    "### Set Symmetric Difference\n",
    "\n",
    "<div>\n",
    "<img src=\"img/set4.png\" width=\"300\"/>\n",
    "</div>\n",
    "\n",
    "Symmetric Difference of **`A`** and **`B`** is a set of elements in **`A`**A and **`B`** but not in both (excluding the intersection).\n",
    "\n",
    "Symmetric difference is performed using `^` operator. Same can be accomplished using the method `symmetric_difference()`."
   ]
  },
  {
   "cell_type": "code",
   "execution_count": 14,
   "metadata": {
    "ExecuteTime": {
     "end_time": "2021-06-09T14:01:13.462010Z",
     "start_time": "2021-06-09T14:01:13.443996Z"
    }
   },
   "outputs": [
    {
     "name": "stdout",
     "output_type": "stream",
     "text": [
      "{1, 2, 3, 6, 7, 8}\n"
     ]
    }
   ],
   "source": [
    "# Example 1:\n",
    "\n",
    "# Symmetric difference of two sets\n",
    "# initialize A and B\n",
    "A = {1, 2, 3, 4, 5}\n",
    "B = {4, 5, 6, 7, 8}\n",
    "\n",
    "# use ^ operator\n",
    "# Output: {1, 2, 3, 6, 7, 8}\n",
    "print(A ^ B)"
   ]
  },
  {
   "cell_type": "code",
   "execution_count": 15,
   "metadata": {
    "ExecuteTime": {
     "end_time": "2021-06-09T14:01:14.038513Z",
     "start_time": "2021-06-09T14:01:14.019040Z"
    }
   },
   "outputs": [
    {
     "data": {
      "text/plain": [
       "{1, 2, 3, 6, 7, 8}"
      ]
     },
     "execution_count": 15,
     "metadata": {},
     "output_type": "execute_result"
    }
   ],
   "source": [
    "# Example 2:\n",
    "\n",
    "# use symmetric_difference function on A\n",
    "A.symmetric_difference(B)\n",
    "{1, 2, 3, 6, 7, 8}\n",
    "\n",
    "# use symmetric_difference function on B\n",
    "B.symmetric_difference(A)\n",
    "{1, 2, 3, 6, 7, 8}"
   ]
  },
  {
   "cell_type": "markdown",
   "metadata": {
    "heading_collapsed": true
   },
   "source": [
    "## Other Python Set Methods\n",
    "\n",
    "There are many set methods, some of which we have already used above. Here is a list of all the methods that are available with the set objects:\n",
    "\n",
    "| Operation | Operator | Method | Description |\n",
    "|:---- |:---- |:---- | :--- |\n",
    "| **add** |  | **`add()`** |  Adds an element to the set. | \n",
    "| **copy** |  | **`copy()`** |  Returns a copy of the set. | \n",
    "| **remove** |  | **`remove()`** |  Removes an element from the set. If the element is not a member, raises a **`KeyError`**. |\n",
    "| **discard** |  | **`discard()`** |  Removes an element from the set if it is a member. (Do nothing if the element is not in set). | \n",
    "| **pop** |  | **`pop()`** |  Removes and returns an arbitrary set element. Raises **`KeyError`** if the set is empty. | \n",
    "| **clear** |  | **`clear()`** |  Removes all elements from the set. | \n",
    "| **union** | **`A \\| B`** | **`A.union(B)`** |  Returns the union of sets in a new set. | \n",
    "| **update** | **`A \\|=B`** | **`A.update(B)`** |  Updates the set with the union of itself and others. | \n",
    "| **intersection** | **`A & B`** | **`A.intersection(B)`** |  Returns the intersection of two sets as a new set. | \n",
    "| **intersection_update** | **`A &=B`** | **`A.intersection_update(B)`** |  Updates the set with the intersection of itself and another. | \n",
    "| **disjoint** |  | **`isdisjoint()`** |  Returns **`True`** if two sets have a null intersection. | \n",
    "| **difference** | **`A – B`** | **`A.difference(B)`** |  Returns the difference of two or more sets as a new set. | \n",
    "| **difference_update** | **`A -=B`** | **`A.difference_update(B)`** |  Removes all elements of another set from this set. | \n",
    "| **symmetric_difference** | **`A ^ B`** | **`A.symmetric_difference(B)`** |  Returns the symmetric difference of two sets as a new set. | \n",
    "| **symmetric_difference_update** | **`A ^=B`** | **`A.symmetric_difference_update(B)`** |  Updates a set with the symmetric difference of itself and another. | \n",
    "| **subset** | **`A <=B`** | **`A.issubset(B)`** |  Returns **`True`** if another set contains this set. | \n",
    "| **superset** | **`A >=B`** | **`A.issuperset(B)`** | Returns **`True`** if this set contains another set. |"
   ]
  },
  {
   "cell_type": "markdown",
   "metadata": {},
   "source": [
    "## Python Frozenset\n",
    "\n",
    "Frozenset is a new class that has the characteristics of a set, but its elements cannot be changed once assigned. While tuples are immutable lists, frozensets are immutable sets.\n",
    "\n",
    "Sets being mutable are unhashable, so they can't be used as dictionary keys. On the other hand, frozensets are hashable and can be used as keys to a dictionary.\n",
    "\n",
    "Frozensets can be created using the **`frozenset()`** function.\n",
    "\n",
    "The **`frozenset()`** function returns an immutable frozenset object initialized with elements from the given iterable.\n",
    "\n",
    "Syntax:\n",
    "\n",
    "**`frozenset([iterable])`**"
   ]
  },
  {
   "cell_type": "code",
   "execution_count": 16,
   "metadata": {
    "ExecuteTime": {
     "end_time": "2021-06-09T14:01:18.998191Z",
     "start_time": "2021-06-09T14:01:18.988457Z"
    }
   },
   "outputs": [],
   "source": [
    "## Example 1:\n",
    "\n",
    "# Frozensets\n",
    "# initialize A and B\n",
    "A = frozenset([1, 2, 3, 4])\n",
    "B = frozenset([3, 4, 5, 6])"
   ]
  },
  {
   "cell_type": "code",
   "execution_count": 17,
   "metadata": {
    "ExecuteTime": {
     "end_time": "2021-06-09T14:01:19.653579Z",
     "start_time": "2021-06-09T14:01:19.643836Z"
    }
   },
   "outputs": [
    {
     "name": "stdout",
     "output_type": "stream",
     "text": [
      "The frozen set is: frozenset({'sex', 'name', 'age'})\n"
     ]
    }
   ],
   "source": [
    "# Example 2: frozenset() for Dictionary\n",
    "\n",
    "# When you use a dictionary as an iterable for a frozen set, \n",
    "# it only takes keys of the dictionary to create the set.\n",
    "\n",
    "# random dictionary\n",
    "person = {\"name\": \"John\", \"age\": 23, \"sex\": \"male\"}\n",
    "\n",
    "fSet = frozenset(person)\n",
    "print('The frozen set is:', fSet)"
   ]
  },
  {
   "cell_type": "code",
   "execution_count": 18,
   "metadata": {
    "ExecuteTime": {
     "end_time": "2021-06-09T14:01:20.402443Z",
     "start_time": "2021-06-09T14:01:20.377127Z"
    }
   },
   "outputs": [
    {
     "name": "stdout",
     "output_type": "stream",
     "text": [
      "The frozen set is: frozenset({'u', 'i', 'e', 'a', 'o'})\n",
      "The empty frozen set is: frozenset()\n"
     ]
    },
    {
     "ename": "AttributeError",
     "evalue": "'frozenset' object has no attribute 'add'",
     "output_type": "error",
     "traceback": [
      "\u001b[1;31m---------------------------------------------------------------------------\u001b[0m",
      "\u001b[1;31mAttributeError\u001b[0m                            Traceback (most recent call last)",
      "\u001b[1;32m<ipython-input-18-7e3cdea6dd72>\u001b[0m in \u001b[0;36m<module>\u001b[1;34m\u001b[0m\n\u001b[0;32m      9\u001b[0m \u001b[1;33m\u001b[0m\u001b[0m\n\u001b[0;32m     10\u001b[0m \u001b[1;31m# frozensets are immutable\u001b[0m\u001b[1;33m\u001b[0m\u001b[1;33m\u001b[0m\u001b[1;33m\u001b[0m\u001b[0m\n\u001b[1;32m---> 11\u001b[1;33m \u001b[0mfSet\u001b[0m\u001b[1;33m.\u001b[0m\u001b[0madd\u001b[0m\u001b[1;33m(\u001b[0m\u001b[1;34m'v'\u001b[0m\u001b[1;33m)\u001b[0m\u001b[1;33m\u001b[0m\u001b[1;33m\u001b[0m\u001b[0m\n\u001b[0m",
      "\u001b[1;31mAttributeError\u001b[0m: 'frozenset' object has no attribute 'add'"
     ]
    }
   ],
   "source": [
    "# Example 3:\n",
    "\n",
    "# tuple of vowels\n",
    "vowels = ('a', 'e', 'i', 'o', 'u')\n",
    "\n",
    "fSet = frozenset(vowels)\n",
    "print('The frozen set is:', fSet)\n",
    "print('The empty frozen set is:', frozenset())\n",
    "\n",
    "# frozensets are immutable\n",
    "fSet.add('v')"
   ]
  },
  {
   "cell_type": "code",
   "execution_count": 19,
   "metadata": {
    "ExecuteTime": {
     "end_time": "2021-06-09T14:01:21.305176Z",
     "start_time": "2021-06-09T14:01:21.285701Z"
    },
    "scrolled": true
   },
   "outputs": [
    {
     "ename": "AttributeError",
     "evalue": "'frozenset' object has no attribute 'add'",
     "output_type": "error",
     "traceback": [
      "\u001b[1;31m---------------------------------------------------------------------------\u001b[0m",
      "\u001b[1;31mAttributeError\u001b[0m                            Traceback (most recent call last)",
      "\u001b[1;32m<ipython-input-19-f947844d046f>\u001b[0m in \u001b[0;36m<module>\u001b[1;34m\u001b[0m\n\u001b[0;32m      7\u001b[0m \u001b[0mA\u001b[0m \u001b[1;33m|\u001b[0m \u001b[0mB\u001b[0m\u001b[1;33m\u001b[0m\u001b[1;33m\u001b[0m\u001b[0m\n\u001b[0;32m      8\u001b[0m \u001b[1;33m\u001b[0m\u001b[0m\n\u001b[1;32m----> 9\u001b[1;33m \u001b[0mA\u001b[0m\u001b[1;33m.\u001b[0m\u001b[0madd\u001b[0m\u001b[1;33m(\u001b[0m\u001b[1;36m3\u001b[0m\u001b[1;33m)\u001b[0m\u001b[1;33m\u001b[0m\u001b[1;33m\u001b[0m\u001b[0m\n\u001b[0m",
      "\u001b[1;31mAttributeError\u001b[0m: 'frozenset' object has no attribute 'add'"
     ]
    }
   ],
   "source": [
    "## Example 4:\n",
    "\n",
    "A.isdisjoint(B)\n",
    "\n",
    "A.difference(B)\n",
    "\n",
    "A | B\n",
    "\n",
    "A.add(3)\n"
   ]
  },
  {
   "cell_type": "markdown",
   "metadata": {},
   "source": [
    "### Frozenset methods\n",
    "\n",
    "This data type supports methods like **`copy()`**, **`difference()`**, **`intersection()`**, **`isdisjoint()`**, **`issubset()`**, **`issuperset()`**, **`symmetric_difference()`** and **`union()`**. Being immutable, it does not have methods that add or remove elements."
   ]
  },
  {
   "cell_type": "code",
   "execution_count": 20,
   "metadata": {
    "ExecuteTime": {
     "end_time": "2021-06-09T14:01:25.937161Z",
     "start_time": "2021-06-09T14:01:25.912817Z"
    }
   },
   "outputs": [
    {
     "name": "stdout",
     "output_type": "stream",
     "text": [
      "frozenset({1, 2, 3, 4})\n",
      "frozenset({1, 2, 3, 4, 5, 6})\n",
      "frozenset({3, 4})\n",
      "frozenset({1, 2})\n",
      "frozenset({1, 2, 5, 6})\n"
     ]
    }
   ],
   "source": [
    "# Frozensets\n",
    "# initialize A and B\n",
    "A = frozenset([1, 2, 3, 4])\n",
    "B = frozenset([3, 4, 5, 6])\n",
    "\n",
    "# copying a frozenset\n",
    "C = A.copy()  # Output: frozenset({1, 2, 3, 4})\n",
    "print(C)\n",
    "\n",
    "# union\n",
    "print(A.union(B))  # Output: frozenset({1, 2, 3, 4, 5, 6})\n",
    "\n",
    "# intersection\n",
    "print(A.intersection(B))  # Output: frozenset({3, 4})\n",
    "\n",
    "# difference\n",
    "print(A.difference(B))  # Output: frozenset({1, 2})\n",
    "\n",
    "# symmetric_difference\n",
    "print(A.symmetric_difference(B))  # Output: frozenset({1, 2, 5, 6})"
   ]
  },
  {
   "cell_type": "markdown",
   "metadata": {},
   "source": [
    "### Other Frozenset methods \n",
    "\n",
    "Similarly, other set methods like **`isdisjoint()`**, **`issubset()`**, and **`issuperset()`** are also available."
   ]
  },
  {
   "cell_type": "code",
   "execution_count": 21,
   "metadata": {
    "ExecuteTime": {
     "end_time": "2021-06-09T14:01:29.722897Z",
     "start_time": "2021-06-09T14:01:29.703421Z"
    }
   },
   "outputs": [
    {
     "name": "stdout",
     "output_type": "stream",
     "text": [
      "True\n",
      "True\n",
      "True\n"
     ]
    }
   ],
   "source": [
    "# Frozensets\n",
    "# initialize A, B and C\n",
    "A = frozenset([1, 2, 3, 4])\n",
    "B = frozenset([3, 4, 5, 6])\n",
    "C = frozenset([5, 6])\n",
    "\n",
    "# isdisjoint() method\n",
    "print(A.isdisjoint(C))  # Output: True\n",
    "\n",
    "# issubset() method\n",
    "print(C.issubset(B))  # Output: True\n",
    "\n",
    "# issuperset() method\n",
    "print(B.issuperset(C))  # Output: True"
   ]
  },
  {
   "cell_type": "code",
   "execution_count": null,
   "metadata": {},
   "outputs": [],
   "source": []
  }
 ],
 "metadata": {
  "hide_input": false,
  "kernelspec": {
   "display_name": "Python 3",
   "language": "python",
   "name": "python3"
  },
  "language_info": {
   "codemirror_mode": {
    "name": "ipython",
    "version": 3
   },
   "file_extension": ".py",
   "mimetype": "text/x-python",
   "name": "python",
   "nbconvert_exporter": "python",
   "pygments_lexer": "ipython3",
   "version": "3.8.3"
  },
  "varInspector": {
   "cols": {
    "lenName": 16,
    "lenType": 16,
    "lenVar": 40
   },
   "kernels_config": {
    "python": {
     "delete_cmd_postfix": "",
     "delete_cmd_prefix": "del ",
     "library": "var_list.py",
     "varRefreshCmd": "print(var_dic_list())"
    },
    "r": {
     "delete_cmd_postfix": ") ",
     "delete_cmd_prefix": "rm(",
     "library": "var_list.r",
     "varRefreshCmd": "cat(var_dic_list()) "
    }
   },
   "types_to_exclude": [
    "module",
    "function",
    "builtin_function_or_method",
    "instance",
    "_Feature"
   ],
   "window_display": false
  }
 },
 "nbformat": 4,
 "nbformat_minor": 2
}
