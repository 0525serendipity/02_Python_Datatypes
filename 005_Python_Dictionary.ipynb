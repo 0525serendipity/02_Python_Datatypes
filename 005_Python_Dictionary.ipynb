{
 "cells": [
  {
   "cell_type": "markdown",
   "metadata": {},
   "source": [
    "<small><small><i>\n",
    "All the IPython Notebooks in this lecture series by Dr. Milan Parmar are available @ **[GitHub](https://github.com/milaan9/02_Python_Datatypes)**\n",
    "</i></small></small>"
   ]
  },
  {
   "cell_type": "markdown",
   "metadata": {},
   "source": [
    "# Python Dictionary\n",
    "\n",
    "Dictionary is an **unordered** set of **key** and **value pair**. It is a container that contains data, enclosed within **curly braces**.The pair i.e., key and value is known as **item**. The key passed in the item must be **unique**.\n",
    "\n",
    "The key and the value is separated by a **colon(:)**. This pair is known as item. Items are separated from each other by a **comma(,)**. Different items are enclosed within a curly brace and this forms **Dictionary**.\n",
    "\n",
    "<div>\n",
    "<img src=\"img/d0.png\" width=\"600\"/>\n",
    "</div>\n",
    "\n",
    "**Example:**\n",
    "\n",
    "```python\n",
    ">>>dict = { }  #empty dictionary\n",
    ">>>dict = {1:'Python',2:'Java',3:'C++'}\n",
    "```\n",
    "\n",
    "* Dictionary is mutable i.e., value can be updated.\n",
    "\n",
    "* Key must be unique and immutable. Value is accessed by key. Value can be updated while key cannot be changed. \n",
    "\n",
    "* Dictionary is known as Associative array since the Key works as Index and they are decided by the user."
   ]
  },
  {
   "cell_type": "markdown",
   "metadata": {},
   "source": [
    "## Accessing Dictionary Values\n",
    "\n",
    "Since Index is not defined, a Dictionary values can be accessed by their keys only. It means, to access dictionary elements we need to pass **key** associated to the value\n",
    "\n",
    "**Syntax:** \n",
    "\n",
    "```python\n",
    "<dictionary_name>[key]\n",
    "```"
   ]
  },
  {
   "cell_type": "code",
   "execution_count": 1,
   "metadata": {
    "ExecuteTime": {
     "end_time": "2021-06-09T13:59:12.242545Z",
     "start_time": "2021-06-09T13:59:12.230863Z"
    }
   },
   "outputs": [
    {
     "name": "stdout",
     "output_type": "stream",
     "text": [
      "Python\n",
      "Gods language\n"
     ]
    }
   ],
   "source": [
    "# Example:\n",
    "\n",
    "dict = {1:'Python',2:'Java',3:'C++','c': 'Gods language'}\n",
    "print(dict[1])\n",
    "print(dict['c'])"
   ]
  },
  {
   "cell_type": "markdown",
   "metadata": {},
   "source": [
    "* iterate all elemnet using for loop for keys() method, keys() method return list of all keys in dictionary."
   ]
  },
  {
   "cell_type": "code",
   "execution_count": 2,
   "metadata": {
    "ExecuteTime": {
     "end_time": "2021-06-09T13:59:18.196012Z",
     "start_time": "2021-06-09T13:59:18.188219Z"
    },
    "scrolled": true
   },
   "outputs": [
    {
     "name": "stdout",
     "output_type": "stream",
     "text": [
      "dict_keys([1, 2, 3, 'c'])\n",
      "Python\n",
      "Java\n",
      "C++\n",
      "Gods language\n"
     ]
    }
   ],
   "source": [
    "# Example:\n",
    "\n",
    "dict = {1:'Python',2:'Java',3:'C++','c': 'Gods language'}\n",
    "print(dict.keys())\n",
    "for x in dict.keys():\n",
    "    print(dict[x])"
   ]
  },
  {
   "cell_type": "markdown",
   "metadata": {},
   "source": [
    "* If we attempt to access a data item with a key, which is not a part of the dictionary, we get an error as follows −"
   ]
  },
  {
   "cell_type": "code",
   "execution_count": 3,
   "metadata": {
    "ExecuteTime": {
     "end_time": "2021-06-09T13:59:20.099830Z",
     "start_time": "2021-06-09T13:59:19.792105Z"
    }
   },
   "outputs": [
    {
     "ename": "KeyError",
     "evalue": "4",
     "output_type": "error",
     "traceback": [
      "\u001b[1;31m---------------------------------------------------------------------------\u001b[0m",
      "\u001b[1;31mKeyError\u001b[0m                                  Traceback (most recent call last)",
      "\u001b[1;32m<ipython-input-3-6fbe8e7159c1>\u001b[0m in \u001b[0;36m<module>\u001b[1;34m\u001b[0m\n\u001b[0;32m      2\u001b[0m \u001b[1;33m\u001b[0m\u001b[0m\n\u001b[0;32m      3\u001b[0m \u001b[0mdict\u001b[0m \u001b[1;33m=\u001b[0m \u001b[1;33m{\u001b[0m\u001b[1;36m1\u001b[0m\u001b[1;33m:\u001b[0m\u001b[1;34m'Python'\u001b[0m\u001b[1;33m,\u001b[0m\u001b[1;36m2\u001b[0m\u001b[1;33m:\u001b[0m\u001b[1;34m'Java'\u001b[0m\u001b[1;33m,\u001b[0m\u001b[1;36m3\u001b[0m\u001b[1;33m:\u001b[0m\u001b[1;34m'C++'\u001b[0m\u001b[1;33m,\u001b[0m\u001b[1;34m'c'\u001b[0m\u001b[1;33m:\u001b[0m \u001b[1;34m'Gods language'\u001b[0m\u001b[1;33m}\u001b[0m\u001b[1;33m\u001b[0m\u001b[1;33m\u001b[0m\u001b[0m\n\u001b[1;32m----> 4\u001b[1;33m \u001b[0mprint\u001b[0m\u001b[1;33m(\u001b[0m\u001b[0mdict\u001b[0m\u001b[1;33m[\u001b[0m\u001b[1;36m4\u001b[0m\u001b[1;33m]\u001b[0m\u001b[1;33m)\u001b[0m\u001b[1;33m\u001b[0m\u001b[1;33m\u001b[0m\u001b[0m\n\u001b[0m",
      "\u001b[1;31mKeyError\u001b[0m: 4"
     ]
    }
   ],
   "source": [
    "# Example:\n",
    "\n",
    "dict = {1:'Python',2:'Java',3:'C++','c': 'Gods language'}\n",
    "print(dict[4])"
   ]
  },
  {
   "cell_type": "markdown",
   "metadata": {},
   "source": [
    "### Updating Dictionary Elements\n",
    "\n",
    "You can update a dictionary by adding a new entry or a key-value pair, **modifying** an **existing entry**, or deleting an existing entry as shown in a simple example given below"
   ]
  },
  {
   "cell_type": "code",
   "execution_count": 4,
   "metadata": {
    "ExecuteTime": {
     "end_time": "2021-06-09T13:59:21.440296Z",
     "start_time": "2021-06-09T13:59:21.419365Z"
    }
   },
   "outputs": [
    {
     "name": "stdout",
     "output_type": "stream",
     "text": [
      "{1: 'Python', 2: 'Java', 3: 'C#', 4: 'PHP'}\n"
     ]
    }
   ],
   "source": [
    "# Example:\n",
    "\n",
    "dict = {1:'Python',2:'Java',3:'C++'}\n",
    "dict[3]=\"C#\"\n",
    "dict[4]=\"PHP\" #insert new value\n",
    "print(dict)"
   ]
  },
  {
   "cell_type": "markdown",
   "metadata": {},
   "source": [
    "### Deleting Dictionary Elements \n",
    "\n",
    "**`del`** statement is used for performing deletion operation.  An item can be deleted from a dictionary using the key only. To explicitly remove an entire dictionary, just use the del statement. Following is a simple example -"
   ]
  },
  {
   "cell_type": "code",
   "execution_count": 5,
   "metadata": {
    "ExecuteTime": {
     "end_time": "2021-06-09T13:59:24.714288Z",
     "start_time": "2021-06-09T13:59:24.689945Z"
    }
   },
   "outputs": [
    {
     "name": "stdout",
     "output_type": "stream",
     "text": [
      "{1: 'Python', 2: 'Java', 4: 'PHP'}\n",
      "dict :  {}\n"
     ]
    },
    {
     "ename": "TypeError",
     "evalue": "'type' object is not subscriptable",
     "output_type": "error",
     "traceback": [
      "\u001b[1;31m---------------------------------------------------------------------------\u001b[0m",
      "\u001b[1;31mTypeError\u001b[0m                                 Traceback (most recent call last)",
      "\u001b[1;32m<ipython-input-5-8344310dfc6e>\u001b[0m in \u001b[0;36m<module>\u001b[1;34m\u001b[0m\n\u001b[0;32m      9\u001b[0m \u001b[1;33m\u001b[0m\u001b[0m\n\u001b[0;32m     10\u001b[0m \u001b[1;32mdel\u001b[0m \u001b[0mdict\u001b[0m \u001b[1;31m# delete entire dictionary\u001b[0m\u001b[1;33m\u001b[0m\u001b[1;33m\u001b[0m\u001b[0m\n\u001b[1;32m---> 11\u001b[1;33m \u001b[0mprint\u001b[0m\u001b[1;33m(\u001b[0m\u001b[0mdict\u001b[0m\u001b[1;33m[\u001b[0m\u001b[1;36m2\u001b[0m\u001b[1;33m]\u001b[0m\u001b[1;33m)\u001b[0m\u001b[1;33m\u001b[0m\u001b[1;33m\u001b[0m\u001b[0m\n\u001b[0m",
      "\u001b[1;31mTypeError\u001b[0m: 'type' object is not subscriptable"
     ]
    }
   ],
   "source": [
    "# Example:\n",
    "\n",
    "dict = {1:'Python',2:'Java',3:'C++',4 : 'PHP'}\n",
    "del dict[3] # remove entry with key 'Name'\n",
    "print(dict)\n",
    "\n",
    "dict.clear() # remove all entries in dict\n",
    "print(\"dict : \",dict)\n",
    "\n",
    "del dict # delete entire dictionary\n",
    "print(dict[2])"
   ]
  },
  {
   "cell_type": "markdown",
   "metadata": {},
   "source": [
    "## Built-in Dictionary Functions and Methods"
   ]
  },
  {
   "cell_type": "markdown",
   "metadata": {},
   "source": [
    "### dictionary function\n",
    "\n",
    "| Function | Description |\n",
    "|:----| :--- |\n",
    "| **`cmp(dict1, dict2)`** |   No longer available in Python 3. | \n",
    "| **`all(dict)`** |   Return **`True`** if all keys of the dictionary are True (or if the dictionary is empty).. | \n",
    "| **`any(dict)`** |   Return **`True`** if any key of the dictionary is true. If the dictionary is empty, return `False`. | \n",
    "| **`sorted(dict)`** |   Return a new sorted list of keys in the dictionary. | \n",
    "| **`len(dict)`** |   Gives the total length of the dictionary. This would be equal to the number of items in the dictionary. | \n",
    "| **`str(dict)`** |   Produces a printable string representation of a dictionary. | \n",
    "| **`type(variable)`** |   Returns the type of the passed variable. If passed variable is dictionary,then it would return a dictionary type.  | "
   ]
  },
  {
   "cell_type": "markdown",
   "metadata": {},
   "source": [
    "#### `all(dict)` - The `all()` function returns True when all elements in the given iterable are true. If not, it returns False.\n",
    "\n",
    "In case of dictionaries, if all keys (not values) are true or the dictionary is empty, **`all()`** returns **`True`**. Else, it returns **`false`** for all other cases."
   ]
  },
  {
   "cell_type": "code",
   "execution_count": 6,
   "metadata": {
    "ExecuteTime": {
     "end_time": "2021-06-09T13:59:32.119720Z",
     "start_time": "2021-06-09T13:59:32.093428Z"
    }
   },
   "outputs": [
    {
     "name": "stdout",
     "output_type": "stream",
     "text": [
      "False\n",
      "True\n",
      "False\n",
      "True\n",
      "True\n"
     ]
    }
   ],
   "source": [
    "# Example 1: How all() works with Python dictionaries?\n",
    "# In case of dictionaries, if all keys (not values) are true or the dictionary is empty, \n",
    "# all() returns True. Else, it returns false for all other cases..\n",
    "\n",
    "s = {0: 'False', 1: 'False'}\n",
    "print(all(s))\n",
    "\n",
    "s = {1: 'True', 2: 'True'}\n",
    "print(all(s))\n",
    "\n",
    "s = {1: 'True', False: 0}\n",
    "print(all(s))\n",
    "\n",
    "s = {}\n",
    "print(all(s))\n",
    "\n",
    "# 0 is False\n",
    "# '0' is True\n",
    "s = {'0': 'True'}\n",
    "print(all(s))"
   ]
  },
  {
   "cell_type": "markdown",
   "metadata": {},
   "source": [
    "#### `any(dict)` - The `any()` function returns True if any element of an iterable is True. If not, any() returns False.\n",
    "\n",
    "In the case of dictionaries, if all keys (not values) are false or the dictionary is empty, `any()` returns `False`. If at least one key is true, `any()` returns `True`."
   ]
  },
  {
   "cell_type": "code",
   "execution_count": 7,
   "metadata": {
    "ExecuteTime": {
     "end_time": "2021-06-09T13:59:33.601391Z",
     "start_time": "2021-06-09T13:59:33.579970Z"
    },
    "scrolled": true
   },
   "outputs": [
    {
     "name": "stdout",
     "output_type": "stream",
     "text": [
      "False\n",
      "True\n",
      "False\n",
      "False\n",
      "True\n"
     ]
    }
   ],
   "source": [
    "# Example 1: How any() works with Python dictionaries?\n",
    "\n",
    "# 0 is False\n",
    "d = {0: 'False'}\n",
    "print(any(d))\n",
    "\n",
    "# 1 is True\n",
    "d = {0: 'False', 1: 'True'}\n",
    "print(any(d))\n",
    "\n",
    "# 0 and False are false\n",
    "d = {0: 'False', False: 0}\n",
    "print(any(d))\n",
    "\n",
    "# iterable is empty\n",
    "d = {}\n",
    "print(any(d))\n",
    "\n",
    "# 0 is False\n",
    "# '0' is True\n",
    "d = {'0': 'False'}\n",
    "print(any(d))"
   ]
  },
  {
   "cell_type": "markdown",
   "metadata": {},
   "source": [
    "#### **`sorted(dict)`** - The `sorted()` function sorts the elements of a given iterable in a specific order (either **ascending** or **descending**) and returns the sorted iterable as a list."
   ]
  },
  {
   "cell_type": "code",
   "execution_count": 8,
   "metadata": {
    "ExecuteTime": {
     "end_time": "2021-06-09T13:59:51.993001Z",
     "start_time": "2021-06-09T13:59:51.975476Z"
    }
   },
   "outputs": [
    {
     "name": "stdout",
     "output_type": "stream",
     "text": [
      "['a', 'e', 'i', 'o', 'u']\n",
      "['u', 'o', 'i', 'e', 'a']\n"
     ]
    }
   ],
   "source": [
    "# dictionary\n",
    "py_dict = {'e': 1, 'a': 2, 'u': 3, 'o': 4, 'i': 5}\n",
    "print(sorted(py_dict))\n",
    "print(sorted(py_dict, reverse=True))"
   ]
  },
  {
   "cell_type": "markdown",
   "metadata": {},
   "source": [
    "#### **`len(dict)`** - The `len()` function gives the total length of the dictionary. This would be equal to the number of items in the dictionary."
   ]
  },
  {
   "cell_type": "code",
   "execution_count": 9,
   "metadata": {
    "ExecuteTime": {
     "end_time": "2021-06-09T13:59:56.173620Z",
     "start_time": "2021-06-09T13:59:56.155119Z"
    }
   },
   "outputs": [
    {
     "name": "stdout",
     "output_type": "stream",
     "text": [
      "4\n"
     ]
    }
   ],
   "source": [
    "# Example:\n",
    "\n",
    "dict = {1:'Python',2:'Java',3:'C++',4 : 'PHP'}\n",
    "print(len(dict))"
   ]
  },
  {
   "cell_type": "markdown",
   "metadata": {},
   "source": [
    "#### **`str(dict)`** - The `str()` function produces a printable string representation of a dictionary."
   ]
  },
  {
   "cell_type": "code",
   "execution_count": 10,
   "metadata": {
    "ExecuteTime": {
     "end_time": "2021-06-09T13:59:56.969722Z",
     "start_time": "2021-06-09T13:59:56.960961Z"
    }
   },
   "outputs": [
    {
     "name": "stdout",
     "output_type": "stream",
     "text": [
      "{1: 'Python', 2: 'Java', 3: 'C++', 4: 'PHP'}\n"
     ]
    }
   ],
   "source": [
    "# Example:\n",
    "\n",
    "dict = {1:'Python',2:'Java',3:'C++',4 : 'PHP'}\n",
    "print(str(dict))"
   ]
  },
  {
   "cell_type": "markdown",
   "metadata": {},
   "source": [
    "#### **`type()`** - The `type()` function returns the type of the passed variable. If passed variable is dictionary then it would return a dictionary type."
   ]
  },
  {
   "cell_type": "code",
   "execution_count": 11,
   "metadata": {
    "ExecuteTime": {
     "end_time": "2021-06-09T13:59:57.531127Z",
     "start_time": "2021-06-09T13:59:57.511655Z"
    }
   },
   "outputs": [
    {
     "name": "stdout",
     "output_type": "stream",
     "text": [
      "<class 'dict'>\n"
     ]
    }
   ],
   "source": [
    "# Example:\n",
    "\n",
    "dict = {1:'Python',2:'Java',3:'C++',4 : 'PHP'}\n",
    "print(type(dict))"
   ]
  },
  {
   "cell_type": "markdown",
   "metadata": {},
   "source": [
    "## dictionary methods\n",
    "\n",
    "| Method | Description |\n",
    "|:----| :--- |\n",
    "| **`dict.clear()`** |   Removes all elements of dictionary dict.  | \n",
    "| **`dict.copy()`** |   Returns a shallow copy of dictionary dict. | \n",
    "| **`dict.fromkeys()`** |   Create a new dictionary with keys from seq and values set to value. | \n",
    "| **`dict.get(key, default=None)`** |   For key key, returns value or default if key not in dictionary.  | \n",
    "| **`dict.has_key(key)`** |   Removed, use the in operation instead.  | \n",
    "| **`dict.items()`** |   Returns a list of dict's (key, value) tuple pairs. | \n",
    "| **`dict.keys()`** |   Returns list of dictionary dict's keys. | \n",
    "| **`dict.setdefault(key, default = None)`** |   Similar to **`get()`**, but will set dict[key] = default if key is not already in dict.  | \n",
    "| **`dict.update(dict2)`** |   Adds dictionary dict2's key-values pairs to dict.  | \n",
    "| **`dict.values()`** |   Returns list of dictionary dict's values.  | "
   ]
  },
  {
   "cell_type": "markdown",
   "metadata": {},
   "source": [
    "#### **`clear()`** - The method `clear()` removes all items from the dictionary."
   ]
  },
  {
   "cell_type": "code",
   "execution_count": 12,
   "metadata": {
    "ExecuteTime": {
     "end_time": "2021-06-09T13:59:58.824851Z",
     "start_time": "2021-06-09T13:59:58.803917Z"
    }
   },
   "outputs": [
    {
     "name": "stdout",
     "output_type": "stream",
     "text": [
      "{1: 'Python', 2: 'Java', 3: 'C++', 4: 'PHP'}\n",
      "{}\n"
     ]
    }
   ],
   "source": [
    "# Example:\n",
    "\n",
    "dict = {1:'Python',2:'Java',3:'C++',4 : 'PHP'}\n",
    "\n",
    "print(str(dict))\n",
    "dict.clear()\n",
    "print(str(dict))"
   ]
  },
  {
   "cell_type": "markdown",
   "metadata": {},
   "source": [
    "#### **`copy()`** - The method `copy()` returns a shallow copy of the dictionary."
   ]
  },
  {
   "cell_type": "code",
   "execution_count": 13,
   "metadata": {
    "ExecuteTime": {
     "end_time": "2021-06-09T13:59:59.713463Z",
     "start_time": "2021-06-09T13:59:59.696914Z"
    }
   },
   "outputs": [
    {
     "name": "stdout",
     "output_type": "stream",
     "text": [
      "{1: 'Python', 2: 'Java', 3: 'C++', 4: 'PHP'}\n"
     ]
    }
   ],
   "source": [
    "# Example:\n",
    "\n",
    "dict1 = {1:'Python',2:'Java',3:'C++',4 : 'PHP'}\n",
    "dict2=dict1.copy()\n",
    "print(dict2)"
   ]
  },
  {
   "cell_type": "markdown",
   "metadata": {},
   "source": [
    "#### **`fromkeys()`** - The method `fromkeys()` creates a new dictionary with keys from seq and values set to value.\n",
    "\n",
    "**Syntax:**\n",
    "\n",
    "```python \n",
    "dict.fromkeys(seq[, value])\n",
    "```"
   ]
  },
  {
   "cell_type": "code",
   "execution_count": 14,
   "metadata": {
    "ExecuteTime": {
     "end_time": "2021-06-09T14:00:00.772984Z",
     "start_time": "2021-06-09T14:00:00.766168Z"
    }
   },
   "outputs": [
    {
     "name": "stdout",
     "output_type": "stream",
     "text": [
      "New Dictionary : {'java': None, 'python': None, 'c++': None}\n",
      "New Dictionary : {'java': 50, 'python': 50, 'c++': 50}\n"
     ]
    }
   ],
   "source": [
    "# Example:\n",
    "\n",
    "seq = ('java', 'python', 'c++')\n",
    "dict = dict.fromkeys(seq)\n",
    "\n",
    "print (\"New Dictionary : %s\" % str(dict))\n",
    "dict = dict.fromkeys(seq, 50)\n",
    "print (\"New Dictionary : %s\" % str(dict))"
   ]
  },
  {
   "cell_type": "markdown",
   "metadata": {},
   "source": [
    "#### **`itmes()`** - The method `items()` returns a list of dict's (key, value) tuple pairs."
   ]
  },
  {
   "cell_type": "code",
   "execution_count": 15,
   "metadata": {
    "ExecuteTime": {
     "end_time": "2021-06-09T14:00:01.660625Z",
     "start_time": "2021-06-09T14:00:01.651859Z"
    }
   },
   "outputs": [
    {
     "name": "stdout",
     "output_type": "stream",
     "text": [
      "dict_items([(1, 'Python'), (2, 'Java'), (3, 'C++'), (4, 'PHP')])\n"
     ]
    }
   ],
   "source": [
    "# Example:\n",
    "\n",
    "dict1 = {1:'Python',2:'Java',3:'C++',4 : 'PHP'}\n",
    "print(dict1.items())"
   ]
  },
  {
   "cell_type": "markdown",
   "metadata": {},
   "source": [
    "#### **`keys()`** - The method `keys()` returns a list of all the available keys in the dictionary."
   ]
  },
  {
   "cell_type": "code",
   "execution_count": 16,
   "metadata": {
    "ExecuteTime": {
     "end_time": "2021-06-09T14:00:02.487399Z",
     "start_time": "2021-06-09T14:00:02.481558Z"
    }
   },
   "outputs": [
    {
     "name": "stdout",
     "output_type": "stream",
     "text": [
      "dict_keys([1, 2, 3, 4])\n"
     ]
    }
   ],
   "source": [
    "# Example:\n",
    "\n",
    "dict1 = {1:'Python',2:'Java',3:'C++',4 : 'PHP'}\n",
    "all_keys=dict1.keys()\n",
    "print(all_keys)"
   ]
  },
  {
   "cell_type": "markdown",
   "metadata": {},
   "source": [
    "#### **`update()`** - The method `update()` adds dictionary dict2's key-values pairs in to dict. This function does not return anything.\n",
    "\n",
    "**Syntax:**\n",
    "\n",
    "```python\n",
    "dict.update(dict2)\n",
    "```"
   ]
  },
  {
   "cell_type": "code",
   "execution_count": 17,
   "metadata": {
    "ExecuteTime": {
     "end_time": "2021-06-09T14:00:03.063412Z",
     "start_time": "2021-06-09T14:00:03.047833Z"
    }
   },
   "outputs": [
    {
     "name": "stdout",
     "output_type": "stream",
     "text": [
      "{1: 'Python3', 2: 'Java', 3: 'C++', 4: 'PHP', 5: 'C'}\n"
     ]
    }
   ],
   "source": [
    "# Example:\n",
    "\n",
    "dict1 = {1:'Python',2:'Java',3:'C++',4 : 'PHP'}\n",
    "dict2= {1: 'Python3',5:'C'} #update Python to Python3\n",
    "dict1.update(dict2)\n",
    "print(dict1)"
   ]
  },
  {
   "cell_type": "markdown",
   "metadata": {},
   "source": [
    "#### **`value()`** - The method `values()` returns a list of all the values available in a given dictionary."
   ]
  },
  {
   "cell_type": "code",
   "execution_count": 18,
   "metadata": {
    "ExecuteTime": {
     "end_time": "2021-06-09T14:00:03.438335Z",
     "start_time": "2021-06-09T14:00:03.424703Z"
    }
   },
   "outputs": [
    {
     "name": "stdout",
     "output_type": "stream",
     "text": [
      "dict_values(['Python', 'Java', 'C++', 'PHP'])\n"
     ]
    }
   ],
   "source": [
    "# Example:\n",
    "\n",
    "dict1 = {1:'Python',2:'Java',3:'C++',4 : 'PHP'}\n",
    "values= dict1.values()\n",
    "print(values)"
   ]
  },
  {
   "cell_type": "markdown",
   "metadata": {},
   "source": [
    "#### **`setdefault()`** - The method `setdefault()` is similar to `get` but will set `dict[key] = default` if key is not already in dict.\n",
    "\n",
    "**Syntax:**\n",
    "\n",
    "```python\n",
    "dict.setdefault(key, default = None)\n",
    "```\n",
    "\n",
    "* key −> This is the key to be searched. \n",
    "* default −> This is the Value to be returned in case key is not found. "
   ]
  },
  {
   "cell_type": "code",
   "execution_count": 19,
   "metadata": {
    "ExecuteTime": {
     "end_time": "2021-06-09T14:00:03.812283Z",
     "start_time": "2021-06-09T14:00:03.797680Z"
    }
   },
   "outputs": [
    {
     "name": "stdout",
     "output_type": "stream",
     "text": [
      "Milan\n",
      "JLUFE\n"
     ]
    }
   ],
   "source": [
    "# Example:\n",
    "\n",
    "dict={'emp_name':'Milan','age':32,'emp_id':101}\n",
    "dict.setdefault('company','JLUFE')\n",
    "print(dict['emp_name'])\n",
    "print(dict['company'])"
   ]
  },
  {
   "cell_type": "markdown",
   "metadata": {},
   "source": [
    "## Syntax of Python Nested Dictionaries\n",
    "\n",
    "Like how a Dictionary is a collection of key-value pairs, Python nested dictionaries are an unordered collection of one or two dictionaries. These can be represented as shown below.\n",
    "\n",
    "**Syntax:**\n",
    "\n",
    "```python\n",
    "nested_dict = { 'dict1': {'key1': 'value1'}, 'dict2': {'key2': 'value2'}}\n",
    "```\n",
    "Here, nested_dict is a nested dictionary which has two dictionaries with keys **`dict1`** and **`dict2`**. The values of those two keys (**`dict1`**, **`dict2`**) are in-turn dictionaries.\n",
    "\n",
    "In Python, Nested dictionaries can be created by placing the comma-separated dictionaries enclosed within curly brackets. For instance,"
   ]
  },
  {
   "cell_type": "code",
   "execution_count": 20,
   "metadata": {
    "ExecuteTime": {
     "end_time": "2021-06-09T14:00:04.342530Z",
     "start_time": "2021-06-09T14:00:04.332792Z"
    }
   },
   "outputs": [
    {
     "name": "stdout",
     "output_type": "stream",
     "text": [
      "{'dict1': {'Color': 'Red', 'Shape': 'Square'}, 'dict2': {'Color': 'Pink', 'Shape': 'Round'}}\n"
     ]
    }
   ],
   "source": [
    "#creating a nested dictionary\n",
    "nes_dict = {'dict1': {'Color': 'Red', 'Shape': 'Square'}, 'dict2': {'Color': 'Pink', 'Shape': 'Round'}}\n",
    "print (nes_dict)"
   ]
  },
  {
   "cell_type": "markdown",
   "metadata": {},
   "source": [
    "<div>\n",
    "<img src=\"img/nd0.png\" width=\"300\"/>\n",
    "</div>"
   ]
  },
  {
   "cell_type": "markdown",
   "metadata": {},
   "source": [
    "### How to Add Key-value Pairs to a Nested Dictionary\n",
    "\n",
    "Value to a specific key in a nested dictionary can be added using its respective key. But, to do this, you first have to create an empty dictionary even before assigning values to respective keys. This can be done as shown below."
   ]
  },
  {
   "cell_type": "code",
   "execution_count": 21,
   "metadata": {
    "ExecuteTime": {
     "end_time": "2021-06-09T14:00:06.118295Z",
     "start_time": "2021-06-09T14:00:06.104664Z"
    }
   },
   "outputs": [
    {
     "name": "stdout",
     "output_type": "stream",
     "text": [
      "{'dict1': {'Color': 'Red', 'Shape': 'Square'}, 'dict2': {'Color': 'Pink', 'Shape': 'Round'}, 'dict3': {'Color': 'Blue', 'Shape': 'Rectangle'}}\n"
     ]
    }
   ],
   "source": [
    "#adding a value to a nested dictionary\n",
    "nes_dict = {'dict1': {'Color': 'Red', 'Shape': 'Square'}, 'dict2': {'Color': 'Pink', 'Shape': 'Round'}}\n",
    "nes_dict['dict3'] = {}\n",
    "nes_dict['dict3']['Color'] = 'Blue'\n",
    "nes_dict['dict3']['Shape'] = 'Rectangle'\n",
    "print(nes_dict)"
   ]
  },
  {
   "cell_type": "markdown",
   "metadata": {},
   "source": [
    "### How to Add a Dictionary to a Nested Dictionary\n",
    "\n",
    "Another way to add a dictionary to an existing nested dictionary is shown below."
   ]
  },
  {
   "cell_type": "code",
   "execution_count": 22,
   "metadata": {
    "ExecuteTime": {
     "end_time": "2021-06-09T14:00:07.288829Z",
     "start_time": "2021-06-09T14:00:07.276173Z"
    }
   },
   "outputs": [
    {
     "name": "stdout",
     "output_type": "stream",
     "text": [
      "{'dict1': {'Color': 'Red', 'Shape': 'Square'}, 'dict2': {'Color': 'Pink', 'Shape': 'Round'}, 'dict3': {'Color': 'Blue', 'Shape': 'Rectangle'}}\n"
     ]
    }
   ],
   "source": [
    "#adding a dictionary to nested dictionary\n",
    "nes_dict = {'dict1': {'Color': 'Red', 'Shape': 'Square'}, 'dict2': {'Color': 'Pink', 'Shape': 'Round'}}\n",
    "nes_dict['dict3'] = {'Color': 'Blue', 'Shape': 'Rectangle'}\n",
    "print(nes_dict)"
   ]
  },
  {
   "cell_type": "markdown",
   "metadata": {},
   "source": [
    "### How to Access Values of a Nested Dictionary\n",
    "\n",
    "Values of a nested dictionary can simply be accessed using their respective keys."
   ]
  },
  {
   "cell_type": "code",
   "execution_count": 23,
   "metadata": {
    "ExecuteTime": {
     "end_time": "2021-06-09T14:00:09.393259Z",
     "start_time": "2021-06-09T14:00:09.381575Z"
    }
   },
   "outputs": [
    {
     "name": "stdout",
     "output_type": "stream",
     "text": [
      "Red\n",
      "Round\n"
     ]
    }
   ],
   "source": [
    "#accessing a value in nested dictionary\n",
    "nes_dict = {'dict1': {'Color': 'Red', 'Shape': 'Square'}, 'dict2': {'Color': 'Pink', 'Shape': 'Round'}}\n",
    "print(nes_dict['dict1']['Color'])\n",
    "print(nes_dict['dict2']['Shape'])"
   ]
  },
  {
   "cell_type": "markdown",
   "metadata": {},
   "source": [
    "### How to Delete Elements from a Nested Dictionary\n",
    "\n",
    "The key-value pairs in Python nested dictionaries can be deleted using the **`del()`** method. This method can be used to delete either the entire dictionary or a particular key-value pair from a nested dictionary."
   ]
  },
  {
   "cell_type": "code",
   "execution_count": 24,
   "metadata": {
    "ExecuteTime": {
     "end_time": "2021-06-09T14:00:10.734700Z",
     "start_time": "2021-06-09T14:00:10.715224Z"
    }
   },
   "outputs": [
    {
     "name": "stdout",
     "output_type": "stream",
     "text": [
      "{'dict2': {'Color': 'Pink', 'Shape': 'Round'}}\n",
      "{'dict2': {'Color': 'Pink'}}\n"
     ]
    }
   ],
   "source": [
    "#deleting the entire nested dictionary\n",
    "nes_dict = {'dict1': {'Color': 'Red', 'Shape': 'Square'}, 'dict2': {'Color': 'Pink', 'Shape': 'Round'}}\n",
    "del nes_dict['dict1']\n",
    "print(nes_dict)\n",
    "\n",
    "\n",
    "Output:{'dict2': {'Color': 'Pink', 'Shape': 'Round'}}\n",
    "\n",
    "\n",
    "#deleting the a key-value from nested dictionary\n",
    "nes_dict = {'dict1': {'Color': 'Red', 'Shape': 'Square'}, 'dict2': {'Color': 'Pink', 'Shape': 'Round'}}\n",
    "del nes_dict['dict1']\n",
    "del nes_dict['dict2']['Shape']\n",
    "print (nes_dict)"
   ]
  },
  {
   "cell_type": "code",
   "execution_count": null,
   "metadata": {},
   "outputs": [],
   "source": []
  }
 ],
 "metadata": {
  "hide_input": false,
  "kernelspec": {
   "display_name": "Python 3",
   "language": "python",
   "name": "python3"
  },
  "language_info": {
   "codemirror_mode": {
    "name": "ipython",
    "version": 3
   },
   "file_extension": ".py",
   "mimetype": "text/x-python",
   "name": "python",
   "nbconvert_exporter": "python",
   "pygments_lexer": "ipython3",
   "version": "3.8.3"
  },
  "varInspector": {
   "cols": {
    "lenName": 16,
    "lenType": 16,
    "lenVar": 40
   },
   "kernels_config": {
    "python": {
     "delete_cmd_postfix": "",
     "delete_cmd_prefix": "del ",
     "library": "var_list.py",
     "varRefreshCmd": "print(var_dic_list())"
    },
    "r": {
     "delete_cmd_postfix": ") ",
     "delete_cmd_prefix": "rm(",
     "library": "var_list.r",
     "varRefreshCmd": "cat(var_dic_list()) "
    }
   },
   "types_to_exclude": [
    "module",
    "function",
    "builtin_function_or_method",
    "instance",
    "_Feature"
   ],
   "window_display": false
  }
 },
 "nbformat": 4,
 "nbformat_minor": 2
}
