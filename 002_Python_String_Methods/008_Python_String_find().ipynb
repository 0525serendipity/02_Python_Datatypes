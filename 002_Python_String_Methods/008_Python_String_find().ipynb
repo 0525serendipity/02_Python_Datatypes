{
 "cells": [
  {
   "cell_type": "markdown",
   "metadata": {},
   "source": [
    "<small><small><i>\n",
    "All the IPython Notebooks in this lecture series by Dr. Milan Parmar are available @ **[GitHub](https://github.com/milaan9/02_Python_Datatypes/tree/main/002_Python_String_Methods)**\n",
    "</i></small></small>"
   ]
  },
  {
   "cell_type": "markdown",
   "metadata": {},
   "source": [
    "# Python String `find()`\n",
    "\n",
    "The **`find()`** method returns the index of first occurrence of the substring (if found). If not found, it returns **-1**.\n",
    "\n",
    "**Syntax**:\n",
    "\n",
    "```python\n",
    "str.find(sub[, start[, end]] )\n",
    "```"
   ]
  },
  {
   "cell_type": "markdown",
   "metadata": {},
   "source": [
    "## `find()` Parameters\n",
    "\n",
    "The **`find()`** method takes maximum of three parameters:\n",
    "\n",
    "* **sub** - It is the substring to be searched in the **`str`** string.\n",
    "* **start** and **end** (optional) - The range **`str[start:end]`** within which substring is searched."
   ]
  },
  {
   "cell_type": "markdown",
   "metadata": {},
   "source": [
    "## Return Value from `find()`\n",
    "\n",
    "The **`find()`** method returns an integer value:\n",
    "\n",
    "* If the substring exists inside the string, it returns the index of the first occurence of the substring.\n",
    "* If substring doesn't exist inside the string, it returns **-1**."
   ]
  },
  {
   "cell_type": "markdown",
   "metadata": {},
   "source": [
    "## Working of `find()` method\n",
    "\n",
    "<div>\n",
    "<img src=\"img/find.png\" width=\"300\"/>\n",
    "</div>"
   ]
  },
  {
   "cell_type": "code",
   "execution_count": 1,
   "metadata": {
    "ExecuteTime": {
     "end_time": "2021-06-10T18:05:52.700288Z",
     "start_time": "2021-06-10T18:05:52.676430Z"
    }
   },
   "outputs": [
    {
     "name": "stdout",
     "output_type": "stream",
     "text": [
      "Substring 'let it': 11\n",
      "Substring 'small ': -1\n",
      "Contains substring 'be,'\n"
     ]
    }
   ],
   "source": [
    "# Example 1: find() With No start and end Argument\n",
    "\n",
    "quote = 'Let it be, let it be, let it be'\n",
    "\n",
    "# first occurance of 'let it'(case sensitive)\n",
    "result = quote.find('let it')\n",
    "print(\"Substring 'let it':\", result)\n",
    "\n",
    "# find returns -1 if substring not found\n",
    "result = quote.find('small')\n",
    "print(\"Substring 'small ':\", result)\n",
    "\n",
    "# How to use find()\n",
    "if (quote.find('be,') != -1):\n",
    "    print(\"Contains substring 'be,'\")\n",
    "else:\n",
    "    print(\"Doesn't contain substring\")"
   ]
  },
  {
   "cell_type": "code",
   "execution_count": 2,
   "metadata": {
    "ExecuteTime": {
     "end_time": "2021-06-10T18:05:53.731080Z",
     "start_time": "2021-06-10T18:05:53.710631Z"
    }
   },
   "outputs": [
    {
     "name": "stdout",
     "output_type": "stream",
     "text": [
      "-1\n",
      "3\n",
      "-1\n",
      "9\n"
     ]
    }
   ],
   "source": [
    "# Example 2: find() With start and end Arguments\n",
    "\n",
    "quote = 'Do small things with great love'\n",
    "\n",
    "# Substring is searched in 'hings with great love'\n",
    "print(quote.find('small things', 10))\n",
    "\n",
    "# Substring is searched in ' small things with great love' \n",
    "print(quote.find('small things', 2))\n",
    "\n",
    "# Substring is searched in 'hings with great lov'\n",
    "print(quote.find('o small ', 10, -1))\n",
    "\n",
    "# Substring is searched in 'll things with'\n",
    "print(quote.find('things ', 6, 20))"
   ]
  },
  {
   "cell_type": "code",
   "execution_count": null,
   "metadata": {},
   "outputs": [],
   "source": []
  }
 ],
 "metadata": {
  "hide_input": false,
  "kernelspec": {
   "display_name": "Python 3",
   "language": "python",
   "name": "python3"
  },
  "language_info": {
   "codemirror_mode": {
    "name": "ipython",
    "version": 3
   },
   "file_extension": ".py",
   "mimetype": "text/x-python",
   "name": "python",
   "nbconvert_exporter": "python",
   "pygments_lexer": "ipython3",
   "version": "3.8.3"
  },
  "varInspector": {
   "cols": {
    "lenName": 16,
    "lenType": 16,
    "lenVar": 40
   },
   "kernels_config": {
    "python": {
     "delete_cmd_postfix": "",
     "delete_cmd_prefix": "del ",
     "library": "var_list.py",
     "varRefreshCmd": "print(var_dic_list())"
    },
    "r": {
     "delete_cmd_postfix": ") ",
     "delete_cmd_prefix": "rm(",
     "library": "var_list.r",
     "varRefreshCmd": "cat(var_dic_list()) "
    }
   },
   "types_to_exclude": [
    "module",
    "function",
    "builtin_function_or_method",
    "instance",
    "_Feature"
   ],
   "window_display": false
  }
 },
 "nbformat": 4,
 "nbformat_minor": 2
}
