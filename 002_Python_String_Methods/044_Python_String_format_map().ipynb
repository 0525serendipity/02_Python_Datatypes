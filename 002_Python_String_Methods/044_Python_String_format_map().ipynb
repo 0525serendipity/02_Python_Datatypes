{
 "cells": [
  {
   "cell_type": "markdown",
   "metadata": {},
   "source": [
    "<small><small><i>\n",
    "All the IPython Notebooks in this lecture series by Dr. Milan Parmar are available @ **[GitHub](https://github.com/milaan9/02_Python_Datatypes/tree/main/002_Python_String_Methods)**\n",
    "</i></small></small>"
   ]
  },
  {
   "cell_type": "markdown",
   "metadata": {},
   "source": [
    "# Python String `format_map()`\n",
    "\n",
    "The string **`format_map()`** method is similar to **`str.format(**mapping)`** except that **`str.format(**mapping)`** creates a new dictionary whereas **`str.format_map(mapping)`** doesn't.\n",
    "\n",
    "Before talking about **`format_map()`**. Let's see how **`str.format(**mapping)`** works for **[Python Dictionaries]()**."
   ]
  },
  {
   "cell_type": "code",
   "execution_count": 1,
   "metadata": {
    "ExecuteTime": {
     "end_time": "2021-06-10T18:17:07.452905Z",
     "start_time": "2021-06-10T18:17:07.442193Z"
    },
    "scrolled": true
   },
   "outputs": [
    {
     "name": "stdout",
     "output_type": "stream",
     "text": [
      "9 -6\n"
     ]
    }
   ],
   "source": [
    "point = {'x':9,'y':-6}\n",
    "print('{x} {y}'.format(**point))"
   ]
  },
  {
   "cell_type": "markdown",
   "metadata": {},
   "source": [
    "Learn more on, **[how to format strings in Python?](XXX)**"
   ]
  },
  {
   "cell_type": "markdown",
   "metadata": {},
   "source": [
    "The **`format_map(mapping)`** is similar to __`str.format(**mapping)`__ method.\n",
    "\n",
    "The only difference is that __`str.format(**mapping)`__ copies the **`dict`** whereas __`str.format(**mapping)`__ makes a new dictionary during method call. This can be useful if you are working with a **`dict`** subclass.\n",
    "\n",
    "**Syntax**:\n",
    "\n",
    "```python\n",
    "str.format_map(mapping)\n",
    "```"
   ]
  },
  {
   "cell_type": "markdown",
   "metadata": {
    "heading_collapsed": true
   },
   "source": [
    "## `format_map()` Parameters\n",
    "\n",
    "The **`format_map()`** method takes a single argument **`mapping(dictionary)`**."
   ]
  },
  {
   "cell_type": "markdown",
   "metadata": {},
   "source": [
    "## Return Value from `format_map()`\n",
    "\n",
    "The **`format_map()`** method formats the given string and returns it."
   ]
  },
  {
   "cell_type": "code",
   "execution_count": 2,
   "metadata": {
    "ExecuteTime": {
     "end_time": "2021-06-10T18:17:11.467007Z",
     "start_time": "2021-06-10T18:17:11.446560Z"
    },
    "scrolled": false
   },
   "outputs": [
    {
     "name": "stdout",
     "output_type": "stream",
     "text": [
      "9 -6\n",
      "9 -6 0\n"
     ]
    }
   ],
   "source": [
    "# Example 1: How format_map() works?\n",
    "\n",
    "point = {'x':9,'y':-6}\n",
    "print('{x} {y}'.format_map(point))\n",
    "\n",
    "point = {'x':9,'y':-6, 'z': 0}\n",
    "print('{x} {y} {z}'.format_map(point))"
   ]
  },
  {
   "cell_type": "code",
   "execution_count": 3,
   "metadata": {
    "ExecuteTime": {
     "end_time": "2021-06-10T18:17:15.715806Z",
     "start_time": "2021-06-10T18:17:15.699251Z"
    }
   },
   "outputs": [
    {
     "name": "stdout",
     "output_type": "stream",
     "text": [
      "(9, y)\n",
      "(x, 5)\n",
      "(9, 6)\n"
     ]
    }
   ],
   "source": [
    "# Example 2: How format_map() works with dict subclass?\n",
    "\n",
    "class Coordinate(dict):\n",
    "    def __missing__(self, key):\n",
    "        return key\n",
    "\n",
    "\n",
    "print('({x}, {y})'.format_map(Coordinate(x='9')))\n",
    "print('({x}, {y})'.format_map(Coordinate(y='5')))\n",
    "print('({x}, {y})'.format_map(Coordinate(x='9', y='6')))"
   ]
  },
  {
   "cell_type": "markdown",
   "metadata": {},
   "source": [
    ">**Note:** **`format_map(mapping)`** is more flexible than __`format(**mapping)`__ as you can have missing keys."
   ]
  },
  {
   "cell_type": "code",
   "execution_count": null,
   "metadata": {},
   "outputs": [],
   "source": []
  }
 ],
 "metadata": {
  "hide_input": false,
  "kernelspec": {
   "display_name": "Python 3",
   "language": "python",
   "name": "python3"
  },
  "language_info": {
   "codemirror_mode": {
    "name": "ipython",
    "version": 3
   },
   "file_extension": ".py",
   "mimetype": "text/x-python",
   "name": "python",
   "nbconvert_exporter": "python",
   "pygments_lexer": "ipython3",
   "version": "3.8.3"
  },
  "varInspector": {
   "cols": {
    "lenName": 16,
    "lenType": 16,
    "lenVar": 40
   },
   "kernels_config": {
    "python": {
     "delete_cmd_postfix": "",
     "delete_cmd_prefix": "del ",
     "library": "var_list.py",
     "varRefreshCmd": "print(var_dic_list())"
    },
    "r": {
     "delete_cmd_postfix": ") ",
     "delete_cmd_prefix": "rm(",
     "library": "var_list.r",
     "varRefreshCmd": "cat(var_dic_list()) "
    }
   },
   "types_to_exclude": [
    "module",
    "function",
    "builtin_function_or_method",
    "instance",
    "_Feature"
   ],
   "window_display": false
  }
 },
 "nbformat": 4,
 "nbformat_minor": 2
}
