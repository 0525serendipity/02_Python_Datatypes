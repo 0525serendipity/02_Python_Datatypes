{
 "cells": [
  {
   "cell_type": "markdown",
   "metadata": {},
   "source": [
    "<small><small><i>\n",
    "All the IPython Notebooks in this lecture series by Dr. Milan Parmar are available @ **[GitHub](https://github.com/milaan9/02_Python_Datatypes/tree/main/002_Python_String_Methods)**\n",
    "</i></small></small>"
   ]
  },
  {
   "cell_type": "markdown",
   "metadata": {},
   "source": [
    "# Python String Function and Method\n",
    "\n",
    "**Function**:\n",
    "\n",
    "A function is a **block of code** to carry out a specific task, will contain its own scope and is called by name. All functions may contain zero(no) arguments or more than one arguments. On exit, a function can or can not return one or more values.\n",
    "\n",
    "* Function is block of code that is also called by its name. (**independent**) \n",
    "* The function can have different parameters or may not have any at all. If any **data** (parameters) are passed, they are passed **explicitly**. \n",
    "* It may or may not return any data. \n",
    "* Function does not **deal with Class** and **its instance** concept.\n",
    "\n",
    "```python\n",
    "def functionName( arg1, arg2,….):\n",
    "   …….\n",
    "   # Function_body\n",
    "   ……..\n",
    "```"
   ]
  },
  {
   "cell_type": "markdown",
   "metadata": {},
   "source": [
    "* **`all()`** - The method all() method returns True when all elements in the given iterable are true. If not, it returns False."
   ]
  },
  {
   "cell_type": "code",
   "execution_count": 1,
   "metadata": {
    "ExecuteTime": {
     "end_time": "2021-06-10T18:02:35.701966Z",
     "start_time": "2021-06-10T18:02:35.686388Z"
    }
   },
   "outputs": [
    {
     "name": "stdout",
     "output_type": "stream",
     "text": [
      "True\n",
      "True\n",
      "True\n"
     ]
    }
   ],
   "source": [
    "# Example 1: How all() works for strings?\n",
    "\n",
    "s = \"This is good\"\n",
    "print(all(s))\n",
    "\n",
    "# 0 is False\n",
    "# '0' is True\n",
    "s = '000'\n",
    "print(all(s))\n",
    "\n",
    "s = ''\n",
    "print(all(s))"
   ]
  },
  {
   "cell_type": "markdown",
   "metadata": {},
   "source": [
    "* **`any()`** - The method any() function returns True if any element of an iterable is True. If not, any() returns False."
   ]
  },
  {
   "cell_type": "code",
   "execution_count": 2,
   "metadata": {
    "ExecuteTime": {
     "end_time": "2021-06-10T18:02:36.233189Z",
     "start_time": "2021-06-10T18:02:36.218583Z"
    }
   },
   "outputs": [
    {
     "name": "stdout",
     "output_type": "stream",
     "text": [
      "True\n",
      "True\n",
      "False\n"
     ]
    }
   ],
   "source": [
    "# Example 1: How any() works for strings?\n",
    "\n",
    "# Atleast one (in fact all) elements are True\n",
    "s = \"This is good\"\n",
    "print(any(s))\n",
    "\n",
    "# 0 is False\n",
    "# '0' is True since its a string character\n",
    "s = '000'\n",
    "print(any(s))\n",
    "\n",
    "# False since empty iterable\n",
    "s = ''\n",
    "print(any(s))"
   ]
  },
  {
   "cell_type": "markdown",
   "metadata": {},
   "source": [
    "* **`sorted()`** - The sorted() function sorts the elements of a given iterable in a specific order (either **ascending** or **descending**) and returns the sorted iterable as a list."
   ]
  },
  {
   "cell_type": "code",
   "execution_count": 3,
   "metadata": {
    "ExecuteTime": {
     "end_time": "2021-06-10T18:02:36.764408Z",
     "start_time": "2021-06-10T18:02:36.753695Z"
    }
   },
   "outputs": [
    {
     "name": "stdout",
     "output_type": "stream",
     "text": [
      "['P', 'h', 'n', 'o', 't', 'y']\n",
      "['y', 't', 'o', 'n', 'h', 'P']\n"
     ]
    }
   ],
   "source": [
    "# string\n",
    "py_string = 'Python'\n",
    "print(sorted(py_string))\n",
    "print(sorted(py_string, reverse=True))"
   ]
  },
  {
   "cell_type": "markdown",
   "metadata": {},
   "source": [
    "**Method**\n",
    "\n",
    "A method in python is somewhat similar to a function, except it is associated with **object/classes**. Methods in python are very similar to functions except for two major differences.\n",
    "\n",
    "* Method is called by its name, but it is associated to an **object** (dependent).\n",
    "* A method is implicitly passed the object on which it is invoked. \n",
    "* It may or may not **return** any data.\n",
    "* A method can operate on the **data** (**instance variables**) that is contained by the corresponding class\n",
    "\n",
    "```python\n",
    "class ClassName:\n",
    "   def method_name():\n",
    "      …………..\n",
    "      # Method_body\n",
    "      ………………\n",
    "```"
   ]
  },
  {
   "cell_type": "markdown",
   "metadata": {},
   "source": [
    "### Built-in String Methods\n",
    "\n",
    "Python includes the following built-in methods to manipulate strings −\n",
    "\n",
    "* **capitalize()** - Capitalizes first letter of string."
   ]
  },
  {
   "cell_type": "code",
   "execution_count": 4,
   "metadata": {
    "ExecuteTime": {
     "end_time": "2021-06-10T18:02:37.404209Z",
     "start_time": "2021-06-10T18:02:37.392040Z"
    }
   },
   "outputs": [
    {
     "name": "stdout",
     "output_type": "stream",
     "text": [
      "Helloworld\n"
     ]
    }
   ],
   "source": [
    "# Example:\n",
    " \n",
    "s=\"helloWorld\"\n",
    "print(s.capitalize())  #Helloworld"
   ]
  },
  {
   "cell_type": "markdown",
   "metadata": {},
   "source": [
    "* **count()** - The count() method returns the number of occurrences of substring sub in the range [start, end]. Optional arguments start and end are interpreted as in slice notation.\n",
    "\n",
    "Syntax : \n",
    "\n",
    "**str.count(sub, start = 0,end = len(string))**\n",
    "\n",
    "* **sub** − This is the substring to be searched. \n",
    "* **start** − Search starts from this index. First character starts from 0 index. By default search starts from 0 index. \n",
    "* **end** − Search ends from this index. First character starts from 0 index. By default search ends at the last index. "
   ]
  },
  {
   "cell_type": "code",
   "execution_count": 5,
   "metadata": {
    "ExecuteTime": {
     "end_time": "2021-06-10T18:02:37.825876Z",
     "start_time": "2021-06-10T18:02:37.815163Z"
    }
   },
   "outputs": [
    {
     "name": "stdout",
     "output_type": "stream",
     "text": [
      "3\n",
      "2\n",
      "2\n",
      "0\n"
     ]
    }
   ],
   "source": [
    "# Example:\n",
    " \n",
    "s=\"I Love Python Tutorial\"\n",
    "print(s.count('o'))  #3\n",
    "print(s.count('o',5))  #2\n",
    "print(s.count('t'))  #2\n",
    "print(s.count('t',2,9))  #0"
   ]
  },
  {
   "cell_type": "markdown",
   "metadata": {},
   "source": [
    "* **index()** - The index() method determines if the string str occurs in string or in a substring of string, if the starting index beg and ending index end are given. This method is same as find(), but raises an exception if sub is not found.\n",
    "\n",
    "Syntax : \n",
    "\n",
    "**str.index(str, beg ,end)**\n",
    "\n",
    "* **str** − This specifies the string to be searched.\n",
    "* **beg** − This is the starting index, by default its 0. \n",
    "* **end** − This is the ending index, by default its equal to the length of the string."
   ]
  },
  {
   "cell_type": "code",
   "execution_count": 6,
   "metadata": {
    "ExecuteTime": {
     "end_time": "2021-06-10T18:02:38.606881Z",
     "start_time": "2021-06-10T18:02:38.230988Z"
    }
   },
   "outputs": [
    {
     "name": "stdout",
     "output_type": "stream",
     "text": [
      "19\n",
      "19\n",
      "2\n"
     ]
    },
    {
     "ename": "ValueError",
     "evalue": "substring not found",
     "output_type": "error",
     "traceback": [
      "\u001b[1;31m---------------------------------------------------------------------------\u001b[0m",
      "\u001b[1;31mValueError\u001b[0m                                Traceback (most recent call last)",
      "\u001b[1;32m<ipython-input-6-691c383cc6dd>\u001b[0m in \u001b[0;36m<module>\u001b[1;34m\u001b[0m\n\u001b[0;32m      5\u001b[0m \u001b[0mprint\u001b[0m\u001b[1;33m(\u001b[0m\u001b[0ms\u001b[0m\u001b[1;33m.\u001b[0m\u001b[0mindex\u001b[0m\u001b[1;33m(\u001b[0m\u001b[1;34m'i'\u001b[0m\u001b[1;33m,\u001b[0m\u001b[1;36m2\u001b[0m\u001b[1;33m)\u001b[0m\u001b[1;33m)\u001b[0m\u001b[1;33m\u001b[0m\u001b[1;33m\u001b[0m\u001b[0m\n\u001b[0;32m      6\u001b[0m \u001b[0mprint\u001b[0m\u001b[1;33m(\u001b[0m\u001b[0ms\u001b[0m\u001b[1;33m.\u001b[0m\u001b[0mindex\u001b[0m\u001b[1;33m(\u001b[0m\u001b[1;34m'Love'\u001b[0m\u001b[1;33m)\u001b[0m\u001b[1;33m)\u001b[0m\u001b[1;33m\u001b[0m\u001b[1;33m\u001b[0m\u001b[0m\n\u001b[1;32m----> 7\u001b[1;33m \u001b[0mprint\u001b[0m\u001b[1;33m(\u001b[0m\u001b[0ms\u001b[0m\u001b[1;33m.\u001b[0m\u001b[0mindex\u001b[0m\u001b[1;33m(\u001b[0m\u001b[1;34m'Love'\u001b[0m\u001b[1;33m,\u001b[0m\u001b[1;36m7\u001b[0m\u001b[1;33m)\u001b[0m\u001b[1;33m)\u001b[0m\u001b[1;33m\u001b[0m\u001b[1;33m\u001b[0m\u001b[0m\n\u001b[0m\u001b[0;32m      8\u001b[0m \u001b[0mprint\u001b[0m\u001b[1;33m(\u001b[0m\u001b[0ms\u001b[0m\u001b[1;33m.\u001b[0m\u001b[0mindex\u001b[0m\u001b[1;33m(\u001b[0m\u001b[1;34m'i'\u001b[0m\u001b[1;33m,\u001b[0m\u001b[1;36m0\u001b[0m\u001b[1;33m,\u001b[0m\u001b[1;36m10\u001b[0m\u001b[1;33m)\u001b[0m\u001b[1;33m)\u001b[0m\u001b[1;33m\u001b[0m\u001b[1;33m\u001b[0m\u001b[0m\n",
      "\u001b[1;31mValueError\u001b[0m: substring not found"
     ]
    }
   ],
   "source": [
    "# Example:\n",
    "\n",
    "s=\"I Love Python Tutorial\"\n",
    "print(s.index('i'))\n",
    "print(s.index('i',2))\n",
    "print(s.index('Love'))\n",
    "print(s.index('Love',7))\n",
    "print(s.index('i',0,10))"
   ]
  },
  {
   "cell_type": "markdown",
   "metadata": {},
   "source": [
    "* **find()** - The find() method determines if the string str occurs in string, or in a substring of string if the starting index beg and ending index end are given.\n",
    "\n",
    "Syntax : \n",
    "\n",
    "**str.find(str, beg, end)**\n",
    "\n",
    "* **str** − This specifies the string to be searched. \n",
    "* **beg** − This is the starting index, by default its 0. \n",
    "* **end** − This is the ending index, by default its equal to the lenght of the string."
   ]
  },
  {
   "cell_type": "code",
   "execution_count": 7,
   "metadata": {
    "ExecuteTime": {
     "end_time": "2021-06-10T18:02:38.747603Z",
     "start_time": "2021-06-10T18:02:38.733967Z"
    },
    "scrolled": true
   },
   "outputs": [
    {
     "name": "stdout",
     "output_type": "stream",
     "text": [
      "0\n",
      "-1\n",
      "2\n",
      "9\n"
     ]
    }
   ],
   "source": [
    "# Example:\n",
    "\n",
    "s=\"I Love Python Tutorial\"\n",
    "print(s.find('I'))\n",
    "print(s.find('I',2))\n",
    "print(s.find('Love'))\n",
    "print(s.find('t',2,10))"
   ]
  },
  {
   "cell_type": "markdown",
   "metadata": {},
   "source": [
    "* **isalpha()** - The isalpha() method checks whether the string consists of alphabetic characters only.\n",
    "\n",
    "Syntax : \n",
    "\n",
    "**str.isalpha()**"
   ]
  },
  {
   "cell_type": "code",
   "execution_count": 8,
   "metadata": {
    "ExecuteTime": {
     "end_time": "2021-06-10T18:02:39.294405Z",
     "start_time": "2021-06-10T18:02:39.273953Z"
    }
   },
   "outputs": [
    {
     "name": "stdout",
     "output_type": "stream",
     "text": [
      "False\n",
      "True\n"
     ]
    }
   ],
   "source": [
    "# Example:\n",
    "\n",
    "s=\"I Love Python 3 Tutorial\"\n",
    "print(s.isalpha())\n",
    "s=\"Python\" # No space & digit in this string\n",
    "print(s.isalpha())"
   ]
  },
  {
   "cell_type": "markdown",
   "metadata": {},
   "source": [
    "* **isalnum()** - The isalnum() method checks whether the string consists of alphanumeric characters.\n",
    "\n",
    "Syntax : \n",
    "\n",
    "**str.isalnum()**"
   ]
  },
  {
   "cell_type": "code",
   "execution_count": 9,
   "metadata": {
    "ExecuteTime": {
     "end_time": "2021-06-10T18:02:39.716555Z",
     "start_time": "2021-06-10T18:02:39.708277Z"
    }
   },
   "outputs": [
    {
     "name": "stdout",
     "output_type": "stream",
     "text": [
      "False\n",
      "True\n"
     ]
    }
   ],
   "source": [
    "# Example:\n",
    "\n",
    "s=\"I Love Python 3 Tutorial\"\n",
    "print(s.isalnum())\n",
    "\n",
    "s=\"Python\" # No space\n",
    "print(s.isalnum())"
   ]
  },
  {
   "cell_type": "markdown",
   "metadata": {},
   "source": [
    "* **isdigit()** - The method isdigit() checks whether the string consists of digits only.\n",
    "\n",
    "Syntax : \n",
    "\n",
    "**str.isdigit()**"
   ]
  },
  {
   "cell_type": "code",
   "execution_count": 10,
   "metadata": {
    "ExecuteTime": {
     "end_time": "2021-06-10T18:02:40.153800Z",
     "start_time": "2021-06-10T18:02:40.138222Z"
    }
   },
   "outputs": [
    {
     "name": "stdout",
     "output_type": "stream",
     "text": [
      "False\n",
      "True\n"
     ]
    }
   ],
   "source": [
    "# Example:\n",
    "\n",
    "s=\"I Love Python 3 Tutorial\"\n",
    "\n",
    "print(s.isdigit())\n",
    "s=\"123\" # Only digit in this string\n",
    "print(s.isdigit())"
   ]
  },
  {
   "cell_type": "markdown",
   "metadata": {},
   "source": [
    "* **islower()** - The islower() method checks whether all the case-based characters (letters) of the string are lowercase."
   ]
  },
  {
   "cell_type": "code",
   "execution_count": 11,
   "metadata": {
    "ExecuteTime": {
     "end_time": "2021-06-10T18:02:40.590072Z",
     "start_time": "2021-06-10T18:02:40.569628Z"
    }
   },
   "outputs": [
    {
     "name": "stdout",
     "output_type": "stream",
     "text": [
      "False\n",
      "True\n"
     ]
    }
   ],
   "source": [
    "# Example:\n",
    "\n",
    "s=\"I Love Python 3 Tutorial\"\n",
    "\n",
    "print(s.islower())\n",
    "p=\"python\"\n",
    "print(p.islower())"
   ]
  },
  {
   "cell_type": "markdown",
   "metadata": {},
   "source": [
    "* **isnumeric()** - The isnumeric() method checks whether the string consists of only numeric characters. This method is present only on unicode objects.\n",
    "\n",
    "**NOTE** − Unlike Python 2, all strings are represented in Unicode in Python 3. Given below is an example illustrating it."
   ]
  },
  {
   "cell_type": "code",
   "execution_count": 12,
   "metadata": {
    "ExecuteTime": {
     "end_time": "2021-06-10T18:02:41.027812Z",
     "start_time": "2021-06-10T18:02:41.017098Z"
    }
   },
   "outputs": [
    {
     "name": "stdout",
     "output_type": "stream",
     "text": [
      "False\n",
      "True\n"
     ]
    }
   ],
   "source": [
    "# Example:\n",
    "\n",
    "str = \"helloworld99\"\n",
    "\n",
    "print (str.isnumeric())\n",
    "str = \"10121997\"\n",
    "print (str.isnumeric())"
   ]
  },
  {
   "cell_type": "markdown",
   "metadata": {},
   "source": [
    "* **isspace()** - The isspace() method checks whether the string consists of whitespace"
   ]
  },
  {
   "cell_type": "code",
   "execution_count": 13,
   "metadata": {
    "ExecuteTime": {
     "end_time": "2021-06-10T18:02:41.605771Z",
     "start_time": "2021-06-10T18:02:41.586297Z"
    }
   },
   "outputs": [
    {
     "name": "stdout",
     "output_type": "stream",
     "text": [
      "True\n",
      "False\n"
     ]
    }
   ],
   "source": [
    "# Example:\n",
    "\n",
    "str = \" \"\n",
    "\n",
    "print (str.isspace())\n",
    "str = \"helloworld\"\n",
    "print (str.isspace())"
   ]
  },
  {
   "cell_type": "markdown",
   "metadata": {},
   "source": [
    "* **istitle()** - The istitle() method checks whether all the case-based characters in the string following non-casebased letters are uppercase and all other case-based characters are lowercase."
   ]
  },
  {
   "cell_type": "code",
   "execution_count": 14,
   "metadata": {
    "ExecuteTime": {
     "end_time": "2021-06-10T18:02:42.059091Z",
     "start_time": "2021-06-10T18:02:42.038643Z"
    }
   },
   "outputs": [
    {
     "name": "stdout",
     "output_type": "stream",
     "text": [
      "True\n",
      "False\n"
     ]
    }
   ],
   "source": [
    "# Example:\n",
    "\n",
    "s1='I Love Python Tutorial'\n",
    "\n",
    "print(s1.istitle())\n",
    "s2='I love python 3'\n",
    "print(s2.istitle())"
   ]
  },
  {
   "cell_type": "markdown",
   "metadata": {},
   "source": [
    "* **len()** - The len() method returns the length of the string."
   ]
  },
  {
   "cell_type": "code",
   "execution_count": 15,
   "metadata": {
    "ExecuteTime": {
     "end_time": "2021-06-10T18:02:42.449590Z",
     "start_time": "2021-06-10T18:02:42.433038Z"
    }
   },
   "outputs": [
    {
     "name": "stdout",
     "output_type": "stream",
     "text": [
      "22\n",
      "15\n"
     ]
    }
   ],
   "source": [
    "# Example:\n",
    "\n",
    "s1='I Love Python Tutorial'\n",
    "\n",
    "print(len(s1))\n",
    "s2='I love python 3'\n",
    "print(len(s2))"
   ]
  },
  {
   "cell_type": "markdown",
   "metadata": {},
   "source": [
    "* **lower()** - The method lower() returns a copy of the string in which all case-based characters have been lowercased."
   ]
  },
  {
   "cell_type": "code",
   "execution_count": 16,
   "metadata": {
    "ExecuteTime": {
     "end_time": "2021-06-10T18:02:42.885864Z",
     "start_time": "2021-06-10T18:02:42.865415Z"
    }
   },
   "outputs": [
    {
     "name": "stdout",
     "output_type": "stream",
     "text": [
      "i love python tutorial\n",
      "i love python 3\n"
     ]
    }
   ],
   "source": [
    "# Example:\n",
    "\n",
    "s1='I Love Python Tutorial'\n",
    "\n",
    "print(s1.lower())\n",
    "s2='I love python 3'\n",
    "print(s2.lower())"
   ]
  },
  {
   "cell_type": "markdown",
   "metadata": {},
   "source": [
    "* **upper()** - The upper() method returns a copy of the string in which all case-based characters have been uppercased."
   ]
  },
  {
   "cell_type": "code",
   "execution_count": 17,
   "metadata": {
    "ExecuteTime": {
     "end_time": "2021-06-10T18:02:43.292438Z",
     "start_time": "2021-06-10T18:02:43.280753Z"
    }
   },
   "outputs": [
    {
     "name": "stdout",
     "output_type": "stream",
     "text": [
      "I LOVE PYTHON TUTORIAL\n",
      "I LOVE PYTHON 3\n"
     ]
    }
   ],
   "source": [
    "# Example:\n",
    "\n",
    "s1='I Love Python Tutorial'\n",
    "\n",
    "print(s1.upper())\n",
    "s2='I love python 3'\n",
    "print(s2.upper())"
   ]
  },
  {
   "cell_type": "markdown",
   "metadata": {},
   "source": [
    "* **max()** - The max() method returns the max alphabetical character from the string str."
   ]
  },
  {
   "cell_type": "code",
   "execution_count": 18,
   "metadata": {
    "ExecuteTime": {
     "end_time": "2021-06-10T18:02:43.714104Z",
     "start_time": "2021-06-10T18:02:43.702417Z"
    }
   },
   "outputs": [
    {
     "name": "stdout",
     "output_type": "stream",
     "text": [
      "y\n",
      "w\n"
     ]
    }
   ],
   "source": [
    "# Example:\n",
    "\n",
    "s1='I Love Python Tutorial'\n",
    "print(max(s1))\n",
    "\n",
    "s2='helloworld'\n",
    "print(max(s2))"
   ]
  },
  {
   "cell_type": "markdown",
   "metadata": {},
   "source": [
    "* **min()** - The min() method returns the min alphabetical character from the string str."
   ]
  },
  {
   "cell_type": "code",
   "execution_count": 19,
   "metadata": {
    "ExecuteTime": {
     "end_time": "2021-06-10T18:02:44.167416Z",
     "start_time": "2021-06-10T18:02:44.148429Z"
    }
   },
   "outputs": [
    {
     "name": "stdout",
     "output_type": "stream",
     "text": [
      "P\n",
      "d\n"
     ]
    }
   ],
   "source": [
    "# Example:\n",
    "\n",
    "s1='PythonTutorial'\n",
    "print(min(s1))\n",
    "\n",
    "s2='helloworld'\n",
    "print(min(s2))"
   ]
  },
  {
   "cell_type": "markdown",
   "metadata": {},
   "source": [
    "* **lstrip()** - The lstrip() method returns a copy of the string in which all chars have been stripped from the beginning of the string (default whitespace characters).\n",
    "* **rstrip()** - The rstrip() method returns a copy of the string in which all chars have been stripped from the end of the string (default whitespace characters).\n",
    "\n",
    "Syntax:\n",
    "\n",
    "**str.lstrip([chars])**\n",
    "\n",
    "**str.rstrip([chars])**"
   ]
  },
  {
   "cell_type": "code",
   "execution_count": 20,
   "metadata": {
    "ExecuteTime": {
     "end_time": "2021-06-10T18:02:44.575454Z",
     "start_time": "2021-06-10T18:02:44.565719Z"
    }
   },
   "outputs": [
    {
     "name": "stdout",
     "output_type": "stream",
     "text": [
      "I Love Python Tutorial \n",
      "HelloWorld###\n",
      "###HelloWorld\n"
     ]
    }
   ],
   "source": [
    "# Example:\n",
    "\n",
    "s1=' I Love Python Tutorial '\n",
    "print(s1.lstrip())\n",
    "\n",
    "s2='###HelloWorld###'\n",
    "print(s2.lstrip('#'))\n",
    "print(s2.rstrip('#'))"
   ]
  },
  {
   "cell_type": "markdown",
   "metadata": {},
   "source": [
    "* **replace()** - The replace() method returns a copy of the string in which the occurrences of old have been replaced with new, optionally restricting the number of replacements to max.\n",
    "\n",
    "Syntax:\n",
    "\n",
    "**str.replace(old, new,[max])**\n",
    "\n",
    "    - old -> This is old substring to be replaced. \n",
    "    - new -> This is new substring, which would replace old substring. \n",
    "    - max -> If this optional argument max is given, only the first count occurrences are replaced. "
   ]
  },
  {
   "cell_type": "code",
   "execution_count": 21,
   "metadata": {
    "ExecuteTime": {
     "end_time": "2021-06-10T18:02:45.009780Z",
     "start_time": "2021-06-10T18:02:44.999066Z"
    }
   },
   "outputs": [
    {
     "name": "stdout",
     "output_type": "stream",
     "text": [
      "I Like Python Tutorial, I Like Life, I Like Coding\n",
      "He Love Python Tutorial, He Love Life, I Love Coding\n"
     ]
    }
   ],
   "source": [
    "# Example:\n",
    "\n",
    "s1='I Love Python Tutorial, I Love Life, I Love Coding'\n",
    "print(s1.replace('Love','Like'))\n",
    "print(s1.replace('I','He',2))"
   ]
  },
  {
   "cell_type": "markdown",
   "metadata": {},
   "source": [
    "* **split()** - The split() method returns a list of all the words in the string, using str as the separator (splits on all whitespace if left unspecified), optionally limiting the number of splits to num.\n",
    "\n",
    "Syntax:\n",
    "\n",
    "**str.split(str=\"\", num = string.count(str))**\n",
    "\n",
    "    - str -> This is any delimeter, by default it is space. \n",
    "    - num -> this is number of lines to be made "
   ]
  },
  {
   "cell_type": "code",
   "execution_count": 22,
   "metadata": {
    "ExecuteTime": {
     "end_time": "2021-06-10T18:02:45.650553Z",
     "start_time": "2021-06-10T18:02:45.638867Z"
    }
   },
   "outputs": [
    {
     "name": "stdout",
     "output_type": "stream",
     "text": [
      "['I Love Python', ' Java', ' Android', ' PHP', ' JavaScript']\n",
      "['I Love Python', ' Java', ' Android, PHP, JavaScript']\n"
     ]
    }
   ],
   "source": [
    "# Example:\n",
    "\n",
    "s1='I Love Python, Java, Android, PHP, JavaScript'\n",
    "print(s1.split(','))\n",
    "print(s1.split(',',2)) #total 3 element in list"
   ]
  },
  {
   "cell_type": "markdown",
   "metadata": {},
   "source": [
    "* **swapcase()** - The swapcase() method returns a copy of the string in which all the case-based characters have had their case swapped."
   ]
  },
  {
   "cell_type": "code",
   "execution_count": 23,
   "metadata": {
    "ExecuteTime": {
     "end_time": "2021-06-10T18:02:46.103379Z",
     "start_time": "2021-06-10T18:02:46.086827Z"
    }
   },
   "outputs": [
    {
     "name": "stdout",
     "output_type": "stream",
     "text": [
      "i lOVE pYTHON, jAVA, aNDROID, php, jAVAsCRIPT\n"
     ]
    }
   ],
   "source": [
    "# Example:\n",
    "\n",
    "s1='I Love Python, Java, Android, PHP, JavaScript'\n",
    "print(s1.swapcase())"
   ]
  },
  {
   "cell_type": "code",
   "execution_count": null,
   "metadata": {},
   "outputs": [],
   "source": []
  }
 ],
 "metadata": {
  "hide_input": false,
  "kernelspec": {
   "display_name": "Python 3",
   "language": "python",
   "name": "python3"
  },
  "language_info": {
   "codemirror_mode": {
    "name": "ipython",
    "version": 3
   },
   "file_extension": ".py",
   "mimetype": "text/x-python",
   "name": "python",
   "nbconvert_exporter": "python",
   "pygments_lexer": "ipython3",
   "version": "3.8.3"
  },
  "varInspector": {
   "cols": {
    "lenName": 16,
    "lenType": 16,
    "lenVar": 40
   },
   "kernels_config": {
    "python": {
     "delete_cmd_postfix": "",
     "delete_cmd_prefix": "del ",
     "library": "var_list.py",
     "varRefreshCmd": "print(var_dic_list())"
    },
    "r": {
     "delete_cmd_postfix": ") ",
     "delete_cmd_prefix": "rm(",
     "library": "var_list.r",
     "varRefreshCmd": "cat(var_dic_list()) "
    }
   },
   "types_to_exclude": [
    "module",
    "function",
    "builtin_function_or_method",
    "instance",
    "_Feature"
   ],
   "window_display": false
  }
 },
 "nbformat": 4,
 "nbformat_minor": 2
}
